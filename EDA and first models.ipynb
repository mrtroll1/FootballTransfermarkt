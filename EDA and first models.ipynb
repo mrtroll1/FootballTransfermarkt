{
 "cells": [
  {
   "cell_type": "markdown",
   "id": "46c8f5de",
   "metadata": {},
   "source": [
    "<h2>Loading the data</h2>"
   ]
  },
  {
   "cell_type": "code",
   "execution_count": 1,
   "id": "252f8c0a",
   "metadata": {},
   "outputs": [],
   "source": [
    "import numpy as np\n",
    "import pandas as pd\n",
    "from IPython.display import SVG\n",
    "import os\n",
    "import matplotlib.pyplot as plt\n",
    "import datetime\n",
    "from datetime import datetime\n",
    "import catboost\n",
    "from catboost import *\n",
    "from catboost import CatBoostRegressor\n",
    "from catboost import CatBoostClassifier\n",
    "\n",
    "from sklearn.model_selection import train_test_split\n",
    "from sklearn.model_selection import cross_val_score\n",
    "from sklearn.linear_model import LogisticRegression\n",
    "from sklearn.tree import DecisionTreeRegressor\n",
    "from sklearn.ensemble import RandomForestRegressor\n",
    "from sklearn.svm import SVR\n",
    "from sklearn.neighbors import KNeighborsClassifier\n",
    "from sklearn.svm import SVC\n",
    "from sklearn.ensemble import GradientBoostingRegressor\n",
    "from sklearn import ensemble\n",
    "from sklearn.preprocessing import OneHotEncoder\n",
    "from sklearn.tree import DecisionTreeClassifier\n",
    "from sklearn.compose import ColumnTransformer\n",
    "from sklearn.pipeline import Pipeline\n",
    "from sklearn.metrics import mean_absolute_error\n",
    "from sklearn.preprocessing import StandardScaler\n",
    "from sklearn.metrics import accuracy_score, log_loss\n",
    "\n",
    "import torch\n",
    "import torch.nn as nn\n",
    "import torch.nn.functional as F\n",
    "from torch.utils.data import Dataset, DataLoader"
   ]
  },
  {
   "cell_type": "markdown",
   "id": "2f5fd78e",
   "metadata": {},
   "source": [
    "Load all the dataframes"
   ]
  },
  {
   "cell_type": "code",
   "execution_count": 2,
   "id": "4f7316b7",
   "metadata": {},
   "outputs": [
    {
     "name": "stderr",
     "output_type": "stream",
     "text": [
      "/var/folders/y5/wrdrrgbd2zvfbnq8j5r4mrqm0000gn/T/ipykernel_98674/639029313.py:10: DtypeWarning: Columns (4) have mixed types. Specify dtype option on import or set low_memory=False.\n",
      "  dataframe = pd.read_csv(file_path)\n"
     ]
    }
   ],
   "source": [
    "data_dir = '../Data'\n",
    "dataframes = {}\n",
    "\n",
    "for filename in os.listdir(data_dir):\n",
    "    if filename.endswith('.csv'):\n",
    "        dataframe_name = filename[:-4]\n",
    "\n",
    "        file_path = os.path.join(data_dir, filename)\n",
    "        \n",
    "        dataframe = pd.read_csv(file_path)\n",
    "\n",
    "        dataframes[dataframe_name] = dataframe"
   ]
  },
  {
   "cell_type": "markdown",
   "id": "89c14b4d",
   "metadata": {},
   "source": [
    "The dataframes are"
   ]
  },
  {
   "cell_type": "code",
   "execution_count": 3,
   "id": "f5edbc4e",
   "metadata": {},
   "outputs": [
    {
     "name": "stdout",
     "output_type": "stream",
     "text": [
      "['game_lineups', 'competitions', 'appearances', 'player_valuations', 'game_events', 'players', 'games', 'club_games', 'clubs']\n"
     ]
    }
   ],
   "source": [
    "print(list(dataframes.keys()))"
   ]
  },
  {
   "cell_type": "markdown",
   "id": "1d98c940",
   "metadata": {},
   "source": [
    "The diagram of the dataset structure"
   ]
  },
  {
   "cell_type": "code",
   "execution_count": 4,
   "id": "717205eb",
   "metadata": {},
   "outputs": [
    {
     "data": {
      "image/svg+xml": [
       "<svg xmlns:xlink=\"http://www.w3.org/1999/xlink\" xmlns=\"http://www.w3.org/2000/svg\" aria-roledescription=\"classDiagram\" viewBox=\"0 0 1456.6796875 541\" style=\"max-width: 1456.68px; background-color: transparent;\" width=\"100%\" id=\"mermaid-1673685336437\"><style>#mermaid-1673685336437{font-family:&quot;trebuchet ms&quot;,verdana,arial,sans-serif;font-size:16px;fill:#333;}#mermaid-1673685336437 .error-icon{fill:#552222;}#mermaid-1673685336437 .error-text{fill:#552222;stroke:#552222;}#mermaid-1673685336437 .edge-thickness-normal{stroke-width:2px;}#mermaid-1673685336437 .edge-thickness-thick{stroke-width:3.5px;}#mermaid-1673685336437 .edge-pattern-solid{stroke-dasharray:0;}#mermaid-1673685336437 .edge-pattern-dashed{stroke-dasharray:3;}#mermaid-1673685336437 .edge-pattern-dotted{stroke-dasharray:2;}#mermaid-1673685336437 .marker{fill:#333333;stroke:#333333;}#mermaid-1673685336437 .marker.cross{stroke:#333333;}#mermaid-1673685336437 svg{font-family:&quot;trebuchet ms&quot;,verdana,arial,sans-serif;font-size:16px;}#mermaid-1673685336437 g.classGroup text{fill:#9370DB;fill:#131300;stroke:none;font-family:&quot;trebuchet ms&quot;,verdana,arial,sans-serif;font-size:10px;}#mermaid-1673685336437 g.classGroup text .title{font-weight:bolder;}#mermaid-1673685336437 .nodeLabel,#mermaid-1673685336437 .edgeLabel{color:#131300;}#mermaid-1673685336437 .edgeLabel .label rect{fill:#ECECFF;}#mermaid-1673685336437 .label text{fill:#131300;}#mermaid-1673685336437 .edgeLabel .label span{background:#ECECFF;}#mermaid-1673685336437 .classTitle{font-weight:bolder;}#mermaid-1673685336437 .node rect,#mermaid-1673685336437 .node circle,#mermaid-1673685336437 .node ellipse,#mermaid-1673685336437 .node polygon,#mermaid-1673685336437 .node path{fill:#ECECFF;stroke:#9370DB;stroke-width:1px;}#mermaid-1673685336437 .divider{stroke:#9370DB;stroke:1;}#mermaid-1673685336437 g.clickable{cursor:pointer;}#mermaid-1673685336437 g.classGroup rect{fill:#ECECFF;stroke:#9370DB;}#mermaid-1673685336437 g.classGroup line{stroke:#9370DB;stroke-width:1;}#mermaid-1673685336437 .classLabel .box{stroke:none;stroke-width:0;fill:#ECECFF;opacity:0.5;}#mermaid-1673685336437 .classLabel .label{fill:#9370DB;font-size:10px;}#mermaid-1673685336437 .relation{stroke:#333333;stroke-width:1;fill:none;}#mermaid-1673685336437 .dashed-line{stroke-dasharray:3;}#mermaid-1673685336437 .dotted-line{stroke-dasharray:1 2;}#mermaid-1673685336437 #compositionStart,#mermaid-1673685336437 .composition{fill:#333333!important;stroke:#333333!important;stroke-width:1;}#mermaid-1673685336437 #compositionEnd,#mermaid-1673685336437 .composition{fill:#333333!important;stroke:#333333!important;stroke-width:1;}#mermaid-1673685336437 #dependencyStart,#mermaid-1673685336437 .dependency{fill:#333333!important;stroke:#333333!important;stroke-width:1;}#mermaid-1673685336437 #dependencyStart,#mermaid-1673685336437 .dependency{fill:#333333!important;stroke:#333333!important;stroke-width:1;}#mermaid-1673685336437 #extensionStart,#mermaid-1673685336437 .extension{fill:#ECECFF!important;stroke:#333333!important;stroke-width:1;}#mermaid-1673685336437 #extensionEnd,#mermaid-1673685336437 .extension{fill:#ECECFF!important;stroke:#333333!important;stroke-width:1;}#mermaid-1673685336437 #aggregationStart,#mermaid-1673685336437 .aggregation{fill:#ECECFF!important;stroke:#333333!important;stroke-width:1;}#mermaid-1673685336437 #aggregationEnd,#mermaid-1673685336437 .aggregation{fill:#ECECFF!important;stroke:#333333!important;stroke-width:1;}#mermaid-1673685336437 #lollipopStart,#mermaid-1673685336437 .lollipop{fill:#ECECFF!important;stroke:#333333!important;stroke-width:1;}#mermaid-1673685336437 #lollipopEnd,#mermaid-1673685336437 .lollipop{fill:#ECECFF!important;stroke:#333333!important;stroke-width:1;}#mermaid-1673685336437 .edgeTerminals{font-size:11px;}#mermaid-1673685336437 .classTitleText{text-anchor:middle;font-size:18px;fill:#333;}#mermaid-1673685336437 :root{--mermaid-font-family:&quot;trebuchet ms&quot;,verdana,arial,sans-serif;}</style><g><defs><marker orient=\"auto\" markerHeight=\"240\" markerWidth=\"190\" refY=\"7\" refX=\"0\" class=\"marker aggregation classDiagram\" id=\"classDiagram-aggregationStart\"><path d=\"M 18,7 L9,13 L1,7 L9,1 Z\"/></marker></defs><defs><marker orient=\"auto\" markerHeight=\"28\" markerWidth=\"20\" refY=\"7\" refX=\"19\" class=\"marker aggregation classDiagram\" id=\"classDiagram-aggregationEnd\"><path d=\"M 18,7 L9,13 L1,7 L9,1 Z\"/></marker></defs><defs><marker orient=\"auto\" markerHeight=\"240\" markerWidth=\"190\" refY=\"7\" refX=\"0\" class=\"marker extension classDiagram\" id=\"classDiagram-extensionStart\"><path d=\"M 1,7 L18,13 V 1 Z\"/></marker></defs><defs><marker orient=\"auto\" markerHeight=\"28\" markerWidth=\"20\" refY=\"7\" refX=\"19\" class=\"marker extension classDiagram\" id=\"classDiagram-extensionEnd\"><path d=\"M 1,1 V 13 L18,7 Z\"/></marker></defs><defs><marker orient=\"auto\" markerHeight=\"240\" markerWidth=\"190\" refY=\"7\" refX=\"0\" class=\"marker composition classDiagram\" id=\"classDiagram-compositionStart\"><path d=\"M 18,7 L9,13 L1,7 L9,1 Z\"/></marker></defs><defs><marker orient=\"auto\" markerHeight=\"28\" markerWidth=\"20\" refY=\"7\" refX=\"19\" class=\"marker composition classDiagram\" id=\"classDiagram-compositionEnd\"><path d=\"M 18,7 L9,13 L1,7 L9,1 Z\"/></marker></defs><defs><marker orient=\"auto\" markerHeight=\"240\" markerWidth=\"190\" refY=\"7\" refX=\"0\" class=\"marker dependency classDiagram\" id=\"classDiagram-dependencyStart\"><path d=\"M 5,7 L9,13 L1,7 L9,1 Z\"/></marker></defs><defs><marker orient=\"auto\" markerHeight=\"28\" markerWidth=\"20\" refY=\"7\" refX=\"19\" class=\"marker dependency classDiagram\" id=\"classDiagram-dependencyEnd\"><path d=\"M 18,7 L9,13 L14,7 L9,1 Z\"/></marker></defs><defs><marker orient=\"auto\" markerHeight=\"240\" markerWidth=\"190\" refY=\"7\" refX=\"0\" class=\"marker lollipop classDiagram\" id=\"classDiagram-lollipopStart\"><circle r=\"6\" cy=\"7\" cx=\"6\" fill=\"white\" stroke=\"black\"/></marker></defs><g class=\"root\"><g class=\"clusters\"/><g class=\"edgePaths\"><path marker-end=\"url(#classDiagram-extensionEnd)\" style=\"fill:none\" class=\"edge-pattern-solid relation\" id=\"id1\" d=\"M131.4375,188.75124722838137L144.640625,183.75103935698448C157.84375,178.75083148558758,184.25,168.7504157427938,212.46875,163.7502078713969C240.6875,158.75,270.71875,158.75,285.734375,158.75L300.75,158.75\"/><path marker-end=\"url(#classDiagram-extensionEnd)\" style=\"fill:none\" class=\"edge-pattern-solid relation\" id=\"id2\" d=\"M103.10142949666914,252.125L121.02723291389096,273.6041666666667C138.95303633111277,295.0833333333333,174.8046431655564,338.0416666666667,221.0702903327782,359.5208333333333C267.3359375,381,324.015625,381,383.7330729166667,381C443.4505208333333,381,506.2057291666667,381,553.82421875,378.57339472423973C601.4427083333334,376.1467894484795,633.9244791666666,371.2935788969591,650.1653645833334,368.86697362119884L666.40625,366.44036834543857\"/><path marker-end=\"url(#classDiagram-extensionEnd)\" style=\"fill:none\" class=\"edge-pattern-solid relation\" id=\"id3\" d=\"M863.046875,351.75L877.8893229166666,351.75C892.7317708333334,351.75,922.4166666666666,351.75,953.3216145833334,351.75C984.2265625,351.75,1016.3515625,351.75,1032.4140625,351.75L1048.4765625,351.75\"/><path marker-end=\"url(#classDiagram-extensionEnd)\" style=\"fill:none\" class=\"edge-pattern-solid relation\" id=\"id4\" d=\"M826.9824377025932,300.5L847.8356251688277,283.3333333333333C868.6888126350622,266.1666666666667,910.3951875675311,231.83333333333334,946.0908229504322,211.94047329506762C981.7864583333334,192.0476132568019,1011.4713541666666,186.59522651360376,1026.3138020833333,183.86903314200472L1041.15625,181.1428397704057\"/><path marker-end=\"url(#classDiagram-extensionEnd)\" style=\"fill:none\" class=\"edge-pattern-solid relation\" id=\"id5\" d=\"M863.046875,401.8612199799867L877.8893229166666,409.4260166499889C892.7317708333334,416.9908133199911,922.4166666666666,432.1204066599956,964.02734375,439.6852033299978C1005.6380208333334,447.25,1059.1744791666667,447.25,1107.5970052083333,447.25C1156.01953125,447.25,1199.328125,447.25,1233.568359375,438.1585241542325C1267.80859375,429.067048308465,1292.98046875,410.8840966169301,1305.56640625,401.7926207711626L1318.15234375,392.70114492539517\"/><path marker-end=\"url(#classDiagram-extensionEnd)\" style=\"fill:none\" class=\"edge-pattern-solid relation\" id=\"id6\" d=\"M1148.9487404336735,300.5L1164.5634034863945,278.4166666666667C1180.1780665391157,256.3333333333333,1211.4073926445578,212.16666666666666,1239.0357275722788,181.22349436155022C1266.6640625,150.28032205643373,1290.69140625,132.5606441128675,1302.705078125,123.70080514108436L1314.71875,114.84096616930123\"/><path marker-end=\"url(#classDiagram-extensionEnd)\" style=\"fill:none\" class=\"edge-pattern-solid relation\" id=\"id7\" d=\"M1176.9453125,351.75L1187.8938802083333,351.75C1198.8424479166667,351.75,1220.7395833333333,351.75,1244.2740885416667,351.75C1267.80859375,351.75,1292.98046875,351.75,1305.56640625,351.75L1318.15234375,351.75\"/><path marker-end=\"url(#classDiagram-extensionEnd)\" style=\"fill:none\" class=\"edge-pattern-solid relation\" id=\"id8\" d=\"M1159.8521501659293,403L1173.6495782632744,418C1187.4470063606195,433,1215.0418625553098,463,1238.5678062776549,478C1262.09375,493,1281.55078125,493,1291.279296875,493L1301.0078125,493\"/><path marker-end=\"url(#classDiagram-extensionEnd)\" style=\"fill:none\" class=\"edge-pattern-solid relation\" id=\"id9\" d=\"M460.640625,121.27542742136276L478.6940104166667,112.81285618446897C496.7473958333333,104.35028494757518,532.8541666666666,87.4251424737876,583.53515625,78.9625712368938C634.2161458333334,70.5,699.4713541666666,70.5,763.328125,70.5C827.1848958333334,70.5,889.6432291666666,70.5,947.640625,70.5C1005.6380208333334,70.5,1059.1744791666667,70.5,1107.5970052083333,70.5C1156.01953125,70.5,1199.328125,70.5,1232.99609375,70.5C1266.6640625,70.5,1290.69140625,70.5,1302.705078125,70.5L1314.71875,70.5\"/><path marker-end=\"url(#classDiagram-extensionEnd)\" style=\"fill:none\" class=\"edge-pattern-solid relation\" id=\"id10\" d=\"M460.640625,204.08043198605694L478.6940104166667,214.31702665504744C496.7473958333333,224.55362132403798,532.8541666666666,245.026810662019,583.53515625,255.2634053310095C634.2161458333334,265.5,699.4713541666666,265.5,763.328125,265.5C827.1848958333334,265.5,889.6432291666666,265.5,947.640625,265.5C1005.6380208333334,265.5,1059.1744791666667,265.5,1107.5970052083333,265.5C1156.01953125,265.5,1199.328125,265.5,1233.568359375,273.7108878711774C1267.80859375,281.92177574235484,1292.98046875,298.34355148470974,1305.56640625,306.55443935588715L1318.15234375,314.7653272270646\"/><path marker-end=\"url(#classDiagram-extensionEnd)\" style=\"fill:none\" class=\"edge-pattern-solid relation\" id=\"id11\" d=\"M452.224805281155,221.25L471.68082731762917,238.25C491.13684935410333,255.25,530.0488934270517,289.25,565.7458008801925,308.6143846276638C601.4427083333334,327.9787692553277,633.9244791666666,332.7075385106553,650.1653645833334,335.0719231383191L666.40625,337.4363077659829\"/><path marker-end=\"url(#classDiagram-extensionEnd)\" style=\"fill:none\" class=\"edge-pattern-solid relation\" id=\"id12\" d=\"M460.640625,148.1870539048884L478.6940104166667,145.801711587407C496.7473958333333,143.41636926992558,532.8541666666666,138.6456846349628,583.53515625,136.26034231748142C634.2161458333334,133.875,699.4713541666666,133.875,763.328125,133.875C827.1848958333334,133.875,889.6432291666666,133.875,935.71484375,137.028605044265C981.7864583333334,140.18221008853,1011.4713541666666,146.48942017706003,1026.3138020833333,149.64302522132502L1041.15625,152.79663026559004\"/></g><g class=\"edgeLabels\"><g transform=\"translate(210.65625, 158.75)\" class=\"edgeLabel\"><g transform=\"translate(-54.21875, -9.25)\" class=\"label\"><foreignObject height=\"18.5\" width=\"108.4375\"><div xmlns=\"http://www.w3.org/1999/xhtml\" style=\"display: inline-block; white-space: nowrap;\"><span class=\"edgeLabel\"><span class=\"edgeLabel\">competition_id</span></span></div></foreignObject></g></g><g transform=\"translate(380.6953125, 381)\" class=\"edgeLabel\"><g transform=\"translate(-90.8203125, -9.25)\" class=\"label\"><foreignObject height=\"18.5\" width=\"181.640625\"><div xmlns=\"http://www.w3.org/1999/xhtml\" style=\"display: inline-block; white-space: nowrap;\"><span class=\"edgeLabel\"><span class=\"edgeLabel\">domestic_competition_id</span></span></div></foreignObject></g></g><g transform=\"translate(952.1015625, 351.75)\" class=\"edgeLabel\"><g transform=\"translate(-56.734375, -9.25)\" class=\"label\"><foreignObject height=\"18.5\" width=\"113.46875\"><div xmlns=\"http://www.w3.org/1999/xhtml\" style=\"display: inline-block; white-space: nowrap;\"><span class=\"edgeLabel\"><span class=\"edgeLabel\">current_club_id</span></span></div></foreignObject></g></g><g transform=\"translate(952.1015625, 197.5)\" class=\"edgeLabel\"><g transform=\"translate(-64.0546875, -9.25)\" class=\"label\"><foreignObject height=\"18.5\" width=\"128.109375\"><div xmlns=\"http://www.w3.org/1999/xhtml\" style=\"display: inline-block; white-space: nowrap;\"><span class=\"edgeLabel\"><span class=\"edgeLabel\">opponent/club_id</span></span></div></foreignObject></g></g><g transform=\"translate(1112.7109375, 447.25)\" class=\"edgeLabel\"><g transform=\"translate(-26.08203125, -9.25)\" class=\"label\"><foreignObject height=\"18.5\" width=\"52.1640625\"><div xmlns=\"http://www.w3.org/1999/xhtml\" style=\"display: inline-block; white-space: nowrap;\"><span class=\"edgeLabel\"><span class=\"edgeLabel\">club_id</span></span></div></foreignObject></g></g><g transform=\"translate(1242.63671875, 168)\" class=\"edgeLabel\"><g transform=\"translate(-33.37109375, -9.25)\" class=\"label\"><foreignObject height=\"18.5\" width=\"66.7421875\"><div xmlns=\"http://www.w3.org/1999/xhtml\" style=\"display: inline-block; white-space: nowrap;\"><span class=\"edgeLabel\"><span class=\"edgeLabel\">player_id</span></span></div></foreignObject></g></g><g transform=\"translate(1242.63671875, 351.75)\" class=\"edgeLabel\"><g transform=\"translate(-33.37109375, -9.25)\" class=\"label\"><foreignObject height=\"18.5\" width=\"66.7421875\"><div xmlns=\"http://www.w3.org/1999/xhtml\" style=\"display: inline-block; white-space: nowrap;\"><span class=\"edgeLabel\"><span class=\"edgeLabel\">player_id</span></span></div></foreignObject></g></g><g transform=\"translate(1242.63671875, 493)\" class=\"edgeLabel\"><g transform=\"translate(-33.37109375, -9.25)\" class=\"label\"><foreignObject height=\"18.5\" width=\"66.7421875\"><div xmlns=\"http://www.w3.org/1999/xhtml\" style=\"display: inline-block; white-space: nowrap;\"><span class=\"edgeLabel\"><span class=\"edgeLabel\">player_id</span></span></div></foreignObject></g></g><g transform=\"translate(952.1015625, 70.5)\" class=\"edgeLabel\"><g transform=\"translate(-30.15625, -9.25)\" class=\"label\"><foreignObject height=\"18.5\" width=\"60.3125\"><div xmlns=\"http://www.w3.org/1999/xhtml\" style=\"display: inline-block; white-space: nowrap;\"><span class=\"edgeLabel\"><span class=\"edgeLabel\">game_id</span></span></div></foreignObject></g></g><g transform=\"translate(952.1015625, 265.5)\" class=\"edgeLabel\"><g transform=\"translate(-30.15625, -9.25)\" class=\"label\"><foreignObject height=\"18.5\" width=\"60.3125\"><div xmlns=\"http://www.w3.org/1999/xhtml\" style=\"display: inline-block; white-space: nowrap;\"><span class=\"edgeLabel\"><span class=\"edgeLabel\">game_id</span></span></div></foreignObject></g></g><g transform=\"translate(568.9609375, 323.25)\" class=\"edgeLabel\"><g transform=\"translate(-72.4453125, -9.25)\" class=\"label\"><foreignObject height=\"18.5\" width=\"144.890625\"><div xmlns=\"http://www.w3.org/1999/xhtml\" style=\"display: inline-block; white-space: nowrap;\"><span class=\"edgeLabel\"><span class=\"edgeLabel\">home/away_club_id</span></span></div></foreignObject></g></g><g transform=\"translate(764.7265625, 133.875)\" class=\"edgeLabel\"><g transform=\"translate(-30.15625, -9.25)\" class=\"label\"><foreignObject height=\"18.5\" width=\"60.3125\"><div xmlns=\"http://www.w3.org/1999/xhtml\" style=\"display: inline-block; white-space: nowrap;\"><span class=\"edgeLabel\"><span class=\"edgeLabel\">game_id</span></span></div></foreignObject></g></g></g><g class=\"nodes\"><g transform=\"translate(69.71875, 212.125)\" id=\"classid-competitions-0\" class=\"node default\"><rect height=\"80\" width=\"123.4375\" y=\"-40\" x=\"-61.71875\" class=\"outer title-state\"/><line y2=\"-9.5\" y1=\"-9.5\" x2=\"61.71875\" x1=\"-61.71875\" class=\"divider\"/><line y2=\"29\" y1=\"29\" x2=\"61.71875\" x1=\"-61.71875\" class=\"divider\"/><g class=\"label\"><foreignObject height=\"0\" width=\"0\"><div xmlns=\"http://www.w3.org/1999/xhtml\" style=\"display: inline-block; white-space: nowrap;\"><span class=\"nodeLabel\"/></div></foreignObject><foreignObject transform=\"translate( -48.56640625, -32.5)\" height=\"18.5\" width=\"97.1328125\" class=\"classTitle\"><div xmlns=\"http://www.w3.org/1999/xhtml\" style=\"display: inline-block; white-space: nowrap;\"><span class=\"nodeLabel\">competitions</span></div></foreignObject><foreignObject transform=\"translate( -54.21875, 2)\" height=\"18.5\" width=\"108.4375\"><div xmlns=\"http://www.w3.org/1999/xhtml\" style=\"display: inline-block; white-space: nowrap;\"><span class=\"nodeLabel\">competition_id</span></div></foreignObject></g></g><g transform=\"translate(380.6953125, 158.75)\" id=\"classid-games-1\" class=\"node default\"><rect height=\"125\" width=\"159.890625\" y=\"-62.5\" x=\"-79.9453125\" class=\"outer title-state\"/><line y2=\"-32\" y1=\"-32\" x2=\"79.9453125\" x1=\"-79.9453125\" class=\"divider\"/><line y2=\"51.5\" y1=\"51.5\" x2=\"79.9453125\" x1=\"-79.9453125\" class=\"divider\"/><g class=\"label\"><foreignObject height=\"0\" width=\"0\"><div xmlns=\"http://www.w3.org/1999/xhtml\" style=\"display: inline-block; white-space: nowrap;\"><span class=\"nodeLabel\"/></div></foreignObject><foreignObject transform=\"translate( -23.1953125, -55)\" height=\"18.5\" width=\"46.390625\" class=\"classTitle\"><div xmlns=\"http://www.w3.org/1999/xhtml\" style=\"display: inline-block; white-space: nowrap;\"><span class=\"nodeLabel\">games</span></div></foreignObject><foreignObject transform=\"translate( -72.4453125, -20.5)\" height=\"18.5\" width=\"60.3125\"><div xmlns=\"http://www.w3.org/1999/xhtml\" style=\"display: inline-block; white-space: nowrap;\"><span class=\"nodeLabel\">game_id</span></div></foreignObject><foreignObject transform=\"translate( -72.4453125, 2)\" height=\"18.5\" width=\"144.890625\"><div xmlns=\"http://www.w3.org/1999/xhtml\" style=\"display: inline-block; white-space: nowrap;\"><span class=\"nodeLabel\">home/away_club_id</span></div></foreignObject><foreignObject transform=\"translate( -72.4453125, 24.5)\" height=\"18.5\" width=\"108.4375\"><div xmlns=\"http://www.w3.org/1999/xhtml\" style=\"display: inline-block; white-space: nowrap;\"><span class=\"nodeLabel\">competition_id</span></div></foreignObject></g></g><g transform=\"translate(764.7265625, 351.75)\" id=\"classid-clubs-2\" class=\"node default\"><rect height=\"102.5\" width=\"196.640625\" y=\"-51.25\" x=\"-98.3203125\" class=\"outer title-state\"/><line y2=\"-20.75\" y1=\"-20.75\" x2=\"98.3203125\" x1=\"-98.3203125\" class=\"divider\"/><line y2=\"40.25\" y1=\"40.25\" x2=\"98.3203125\" x1=\"-98.3203125\" class=\"divider\"/><g class=\"label\"><foreignObject height=\"0\" width=\"0\"><div xmlns=\"http://www.w3.org/1999/xhtml\" style=\"display: inline-block; white-space: nowrap;\"><span class=\"nodeLabel\"/></div></foreignObject><foreignObject transform=\"translate( -19.27734375, -43.75)\" height=\"18.5\" width=\"38.5546875\" class=\"classTitle\"><div xmlns=\"http://www.w3.org/1999/xhtml\" style=\"display: inline-block; white-space: nowrap;\"><span class=\"nodeLabel\">clubs</span></div></foreignObject><foreignObject transform=\"translate( -90.8203125, -9.25)\" height=\"18.5\" width=\"52.1640625\"><div xmlns=\"http://www.w3.org/1999/xhtml\" style=\"display: inline-block; white-space: nowrap;\"><span class=\"nodeLabel\">club_id</span></div></foreignObject><foreignObject transform=\"translate( -90.8203125, 13.25)\" height=\"18.5\" width=\"181.640625\"><div xmlns=\"http://www.w3.org/1999/xhtml\" style=\"display: inline-block; white-space: nowrap;\"><span class=\"nodeLabel\">domestic_competition_id</span></div></foreignObject></g></g><g transform=\"translate(1112.7109375, 351.75)\" id=\"classid-players-3\" class=\"node default\"><rect height=\"102.5\" width=\"128.46875\" y=\"-51.25\" x=\"-64.234375\" class=\"outer title-state\"/><line y2=\"-20.75\" y1=\"-20.75\" x2=\"64.234375\" x1=\"-64.234375\" class=\"divider\"/><line y2=\"40.25\" y1=\"40.25\" x2=\"64.234375\" x1=\"-64.234375\" class=\"divider\"/><g class=\"label\"><foreignObject height=\"0\" width=\"0\"><div xmlns=\"http://www.w3.org/1999/xhtml\" style=\"display: inline-block; white-space: nowrap;\"><span class=\"nodeLabel\"/></div></foreignObject><foreignObject transform=\"translate( -27.01171875, -43.75)\" height=\"18.5\" width=\"54.0234375\" class=\"classTitle\"><div xmlns=\"http://www.w3.org/1999/xhtml\" style=\"display: inline-block; white-space: nowrap;\"><span class=\"nodeLabel\">players</span></div></foreignObject><foreignObject transform=\"translate( -56.734375, -9.25)\" height=\"18.5\" width=\"66.7421875\"><div xmlns=\"http://www.w3.org/1999/xhtml\" style=\"display: inline-block; white-space: nowrap;\"><span class=\"nodeLabel\">player_id</span></div></foreignObject><foreignObject transform=\"translate( -56.734375, 13.25)\" height=\"18.5\" width=\"113.46875\"><div xmlns=\"http://www.w3.org/1999/xhtml\" style=\"display: inline-block; white-space: nowrap;\"><span class=\"nodeLabel\">current_club_id</span></div></foreignObject></g></g><g transform=\"translate(1112.7109375, 168)\" id=\"classid-club_games-4\" class=\"node default\"><rect height=\"125\" width=\"143.109375\" y=\"-62.5\" x=\"-71.5546875\" class=\"outer title-state\"/><line y2=\"-32\" y1=\"-32\" x2=\"71.5546875\" x1=\"-71.5546875\" class=\"divider\"/><line y2=\"51.5\" y1=\"51.5\" x2=\"71.5546875\" x1=\"-71.5546875\" class=\"divider\"/><g class=\"label\"><foreignObject height=\"0\" width=\"0\"><div xmlns=\"http://www.w3.org/1999/xhtml\" style=\"display: inline-block; white-space: nowrap;\"><span class=\"nodeLabel\"/></div></foreignObject><foreignObject transform=\"translate( -43.71484375, -55)\" height=\"18.5\" width=\"87.4296875\" class=\"classTitle\"><div xmlns=\"http://www.w3.org/1999/xhtml\" style=\"display: inline-block; white-space: nowrap;\"><span class=\"nodeLabel\">club_games</span></div></foreignObject><foreignObject transform=\"translate( -64.0546875, -20.5)\" height=\"18.5\" width=\"52.1640625\"><div xmlns=\"http://www.w3.org/1999/xhtml\" style=\"display: inline-block; white-space: nowrap;\"><span class=\"nodeLabel\">club_id</span></div></foreignObject><foreignObject transform=\"translate( -64.0546875, 2)\" height=\"18.5\" width=\"128.109375\"><div xmlns=\"http://www.w3.org/1999/xhtml\" style=\"display: inline-block; white-space: nowrap;\"><span class=\"nodeLabel\">opponent_club_id</span></div></foreignObject><foreignObject transform=\"translate( -64.0546875, 24.5)\" height=\"18.5\" width=\"60.3125\"><div xmlns=\"http://www.w3.org/1999/xhtml\" style=\"display: inline-block; white-space: nowrap;\"><span class=\"nodeLabel\">game_id</span></div></foreignObject></g></g><g transform=\"translate(1374.84375, 351.75)\" id=\"classid-game_events-5\" class=\"node default\"><rect height=\"102.5\" width=\"113.3828125\" y=\"-51.25\" x=\"-56.69140625\" class=\"outer title-state\"/><line y2=\"-20.75\" y1=\"-20.75\" x2=\"56.69140625\" x1=\"-56.69140625\" class=\"divider\"/><line y2=\"40.25\" y1=\"40.25\" x2=\"56.69140625\" x1=\"-56.69140625\" class=\"divider\"/><g class=\"label\"><foreignObject height=\"0\" width=\"0\"><div xmlns=\"http://www.w3.org/1999/xhtml\" style=\"display: inline-block; white-space: nowrap;\"><span class=\"nodeLabel\"/></div></foreignObject><foreignObject transform=\"translate( -49.19140625, -43.75)\" height=\"18.5\" width=\"98.3828125\" class=\"classTitle\"><div xmlns=\"http://www.w3.org/1999/xhtml\" style=\"display: inline-block; white-space: nowrap;\"><span class=\"nodeLabel\">game_events</span></div></foreignObject><foreignObject transform=\"translate( -49.19140625, -9.25)\" height=\"18.5\" width=\"60.3125\"><div xmlns=\"http://www.w3.org/1999/xhtml\" style=\"display: inline-block; white-space: nowrap;\"><span class=\"nodeLabel\">game_id</span></div></foreignObject><foreignObject transform=\"translate( -49.19140625, 13.25)\" height=\"18.5\" width=\"66.7421875\"><div xmlns=\"http://www.w3.org/1999/xhtml\" style=\"display: inline-block; white-space: nowrap;\"><span class=\"nodeLabel\">player_id</span></div></foreignObject></g></g><g transform=\"translate(1374.84375, 70.5)\" id=\"classid-appearances-6\" class=\"node default\"><rect height=\"125\" width=\"120.25\" y=\"-62.5\" x=\"-60.125\" class=\"outer title-state\"/><line y2=\"-32\" y1=\"-32\" x2=\"60.125\" x1=\"-60.125\" class=\"divider\"/><line y2=\"51.5\" y1=\"51.5\" x2=\"60.125\" x1=\"-60.125\" class=\"divider\"/><g class=\"label\"><foreignObject height=\"0\" width=\"0\"><div xmlns=\"http://www.w3.org/1999/xhtml\" style=\"display: inline-block; white-space: nowrap;\"><span class=\"nodeLabel\"/></div></foreignObject><foreignObject transform=\"translate( -46.73046875, -55)\" height=\"18.5\" width=\"93.4609375\" class=\"classTitle\"><div xmlns=\"http://www.w3.org/1999/xhtml\" style=\"display: inline-block; white-space: nowrap;\"><span class=\"nodeLabel\">appearances</span></div></foreignObject><foreignObject transform=\"translate( -52.625, -20.5)\" height=\"18.5\" width=\"105.25\"><div xmlns=\"http://www.w3.org/1999/xhtml\" style=\"display: inline-block; white-space: nowrap;\"><span class=\"nodeLabel\">appearance_id</span></div></foreignObject><foreignObject transform=\"translate( -52.625, 2)\" height=\"18.5\" width=\"66.7421875\"><div xmlns=\"http://www.w3.org/1999/xhtml\" style=\"display: inline-block; white-space: nowrap;\"><span class=\"nodeLabel\">player_id</span></div></foreignObject><foreignObject transform=\"translate( -52.625, 24.5)\" height=\"18.5\" width=\"60.3125\"><div xmlns=\"http://www.w3.org/1999/xhtml\" style=\"display: inline-block; white-space: nowrap;\"><span class=\"nodeLabel\">game_id</span></div></foreignObject></g></g><g transform=\"translate(1374.84375, 493)\" id=\"classid-player_valuations-7\" class=\"node default\"><rect height=\"80\" width=\"147.671875\" y=\"-40\" x=\"-73.8359375\" class=\"outer title-state\"/><line y2=\"-9.5\" y1=\"-9.5\" x2=\"73.8359375\" x1=\"-73.8359375\" class=\"divider\"/><line y2=\"29\" y1=\"29\" x2=\"73.8359375\" x1=\"-73.8359375\" class=\"divider\"/><g class=\"label\"><foreignObject height=\"0\" width=\"0\"><div xmlns=\"http://www.w3.org/1999/xhtml\" style=\"display: inline-block; white-space: nowrap;\"><span class=\"nodeLabel\"/></div></foreignObject><foreignObject transform=\"translate( -66.3359375, -32.5)\" height=\"18.5\" width=\"132.671875\" class=\"classTitle\"><div xmlns=\"http://www.w3.org/1999/xhtml\" style=\"display: inline-block; white-space: nowrap;\"><span class=\"nodeLabel\">player_valuations</span></div></foreignObject><foreignObject transform=\"translate( -66.3359375, 2)\" height=\"18.5\" width=\"66.7421875\"><div xmlns=\"http://www.w3.org/1999/xhtml\" style=\"display: inline-block; white-space: nowrap;\"><span class=\"nodeLabel\">player_id</span></div></foreignObject></g></g></g></g></g></svg>"
      ],
      "text/plain": [
       "<IPython.core.display.SVG object>"
      ]
     },
     "execution_count": 4,
     "metadata": {},
     "output_type": "execute_result"
    }
   ],
   "source": [
    "SVG(filename='../Other/diagram.svg')"
   ]
  },
  {
   "cell_type": "markdown",
   "id": "06f596e4",
   "metadata": {},
   "source": [
    "<h2>What is important?</h2>"
   ]
  },
  {
   "cell_type": "markdown",
   "id": "ffb1823c",
   "metadata": {},
   "source": [
    "We would like to learn player evaluation. Do do that, we will create an extended 'players' dataframe that would contain gathered and engineered features. Most basic features that should be important are:\n",
    "<br>\n",
    "1. number of goals\n",
    "2. number of assists\n",
    "2. number of games\n",
    "3. age\n",
    "4. height\n",
    "5. minutes played\n",
    "6. position\n",
    "7. club\n",
    "8. league\n",
    "9. game attendance"
   ]
  },
  {
   "cell_type": "markdown",
   "id": "7aa2bf6f",
   "metadata": {},
   "source": [
    "However, first we will envestigate the player features that are already present in the 'players' table. "
   ]
  },
  {
   "cell_type": "markdown",
   "id": "9f38025a",
   "metadata": {},
   "source": [
    "<h2>Filtering</h2>"
   ]
  },
  {
   "cell_type": "markdown",
   "id": "84c5aa81",
   "metadata": {},
   "source": [
    "Let's caclculate the percentage of missing vaues for every feature of each dataframe"
   ]
  },
  {
   "cell_type": "code",
   "execution_count": 5,
   "id": "797204e3",
   "metadata": {},
   "outputs": [
    {
     "name": "stdout",
     "output_type": "stream",
     "text": [
      "DataFrame: game_lineups\n",
      "DataFrame: competitions\n",
      "Feature 'country_name' has 16.27906976744186% NaN values\n",
      "Feature 'domestic_league_code' has 16.27906976744186% NaN values\n",
      "DataFrame: appearances\n",
      "DataFrame: player_valuations\n",
      "DataFrame: game_events\n",
      "Feature 'description' has 48.95900690999034% NaN values\n",
      "Feature 'player_in_id' has 37.10067476070208% NaN values\n",
      "Feature 'player_assist_id' has 95.07123118455735% NaN values\n",
      "DataFrame: players\n",
      "Feature 'contract_expiration_date' has 37.554098360655736% NaN values\n",
      "Feature 'agent_name' has 50.44262295081967% NaN values\n",
      "DataFrame: games\n",
      "Feature 'home_club_position' has 29.706830621579066% NaN values\n",
      "Feature 'away_club_position' has 29.706830621579066% NaN values\n",
      "Feature 'attendance' has 14.466521706530704% NaN values\n",
      "Feature 'home_club_name' has 17.092299617605157% NaN values\n",
      "Feature 'away_club_name' has 15.240308915048361% NaN values\n",
      "DataFrame: club_games\n",
      "Feature 'own_position' has 29.706830621579066% NaN values\n",
      "Feature 'opponent_position' has 29.706830621579066% NaN values\n",
      "DataFrame: clubs\n",
      "Feature 'total_market_value' has 100.0% NaN values\n",
      "Feature 'foreigners_percentage' has 11.032863849765258% NaN values\n",
      "Feature 'coach_name' has 100.0% NaN values\n"
     ]
    }
   ],
   "source": [
    "for df_name, dataframe in dataframes.items():\n",
    "    print(f\"DataFrame: {df_name}\")\n",
    "    nan_percentage = dataframe.isna().mean() * 100\n",
    "    for feature, percentage in nan_percentage.items():\n",
    "        if percentage >= 10:\n",
    "            print(f\"Feature '{feature}' has {percentage}% NaN values\")"
   ]
  },
  {
   "cell_type": "markdown",
   "id": "9e66b292",
   "metadata": {},
   "source": [
    "First, let's drop the completely missing values"
   ]
  },
  {
   "cell_type": "code",
   "execution_count": 6,
   "id": "e108b5e1",
   "metadata": {},
   "outputs": [],
   "source": [
    "clubs_df = dataframes['clubs']\n",
    "\n",
    "clubs_df = clubs_df.drop(columns=['total_market_value', 'coach_name'], axis=1)"
   ]
  },
  {
   "cell_type": "markdown",
   "id": "a136ea8e",
   "metadata": {},
   "source": [
    "The 'player_in_id' feature of a game_events table is about substitutions. For example, it is quite important if we want to calculate the time that player spent playing. However, this feature is not applicable for other event types, so this amount of missing values is deceiving. Simillar logic applies to 'player_assist_id'"
   ]
  },
  {
   "cell_type": "code",
   "execution_count": 7,
   "id": "828413e3",
   "metadata": {},
   "outputs": [
    {
     "data": {
      "text/html": [
       "<div>\n",
       "<style scoped>\n",
       "    .dataframe tbody tr th:only-of-type {\n",
       "        vertical-align: middle;\n",
       "    }\n",
       "\n",
       "    .dataframe tbody tr th {\n",
       "        vertical-align: top;\n",
       "    }\n",
       "\n",
       "    .dataframe thead th {\n",
       "        text-align: right;\n",
       "    }\n",
       "</style>\n",
       "<table border=\"1\" class=\"dataframe\">\n",
       "  <thead>\n",
       "    <tr style=\"text-align: right;\">\n",
       "      <th></th>\n",
       "      <th>game_event_id</th>\n",
       "      <th>date</th>\n",
       "      <th>game_id</th>\n",
       "      <th>minute</th>\n",
       "      <th>type</th>\n",
       "      <th>club_id</th>\n",
       "      <th>player_id</th>\n",
       "      <th>description</th>\n",
       "      <th>player_in_id</th>\n",
       "      <th>player_assist_id</th>\n",
       "    </tr>\n",
       "  </thead>\n",
       "  <tbody>\n",
       "    <tr>\n",
       "      <th>0</th>\n",
       "      <td>2f41da30c471492e7d4a984951671677</td>\n",
       "      <td>2012-08-05</td>\n",
       "      <td>2211607</td>\n",
       "      <td>77</td>\n",
       "      <td>Cards</td>\n",
       "      <td>610</td>\n",
       "      <td>4425</td>\n",
       "      <td>1. Yellow card  , Mass confrontation</td>\n",
       "      <td>NaN</td>\n",
       "      <td>NaN</td>\n",
       "    </tr>\n",
       "    <tr>\n",
       "      <th>1</th>\n",
       "      <td>a72f7186d132775f234d3e2f7bc0ed5b</td>\n",
       "      <td>2012-08-05</td>\n",
       "      <td>2211607</td>\n",
       "      <td>77</td>\n",
       "      <td>Cards</td>\n",
       "      <td>383</td>\n",
       "      <td>33210</td>\n",
       "      <td>1. Yellow card  , Mass confrontation</td>\n",
       "      <td>NaN</td>\n",
       "      <td>NaN</td>\n",
       "    </tr>\n",
       "    <tr>\n",
       "      <th>2</th>\n",
       "      <td>b2d721eaed4692a5c59a92323689ef18</td>\n",
       "      <td>2012-08-05</td>\n",
       "      <td>2211607</td>\n",
       "      <td>3</td>\n",
       "      <td>Goals</td>\n",
       "      <td>383</td>\n",
       "      <td>36500</td>\n",
       "      <td>, Header, 1. Tournament Goal Assist: , Corner,...</td>\n",
       "      <td>NaN</td>\n",
       "      <td>56416.0</td>\n",
       "    </tr>\n",
       "    <tr>\n",
       "      <th>3</th>\n",
       "      <td>aef768899cedac0c9a650980219075a2</td>\n",
       "      <td>2012-08-05</td>\n",
       "      <td>2211607</td>\n",
       "      <td>53</td>\n",
       "      <td>Goals</td>\n",
       "      <td>383</td>\n",
       "      <td>36500</td>\n",
       "      <td>, Right-footed shot, 2. Tournament Goal Assist...</td>\n",
       "      <td>NaN</td>\n",
       "      <td>146258.0</td>\n",
       "    </tr>\n",
       "    <tr>\n",
       "      <th>4</th>\n",
       "      <td>5d6d9533023057b6619ecd145a038bbe</td>\n",
       "      <td>2012-08-05</td>\n",
       "      <td>2211607</td>\n",
       "      <td>74</td>\n",
       "      <td>Substitutions</td>\n",
       "      <td>383</td>\n",
       "      <td>36500</td>\n",
       "      <td>, Not reported</td>\n",
       "      <td>49499.0</td>\n",
       "      <td>NaN</td>\n",
       "    </tr>\n",
       "  </tbody>\n",
       "</table>\n",
       "</div>"
      ],
      "text/plain": [
       "                      game_event_id        date  game_id  minute  \\\n",
       "0  2f41da30c471492e7d4a984951671677  2012-08-05  2211607      77   \n",
       "1  a72f7186d132775f234d3e2f7bc0ed5b  2012-08-05  2211607      77   \n",
       "2  b2d721eaed4692a5c59a92323689ef18  2012-08-05  2211607       3   \n",
       "3  aef768899cedac0c9a650980219075a2  2012-08-05  2211607      53   \n",
       "4  5d6d9533023057b6619ecd145a038bbe  2012-08-05  2211607      74   \n",
       "\n",
       "            type  club_id  player_id  \\\n",
       "0          Cards      610       4425   \n",
       "1          Cards      383      33210   \n",
       "2          Goals      383      36500   \n",
       "3          Goals      383      36500   \n",
       "4  Substitutions      383      36500   \n",
       "\n",
       "                                         description  player_in_id  \\\n",
       "0               1. Yellow card  , Mass confrontation           NaN   \n",
       "1               1. Yellow card  , Mass confrontation           NaN   \n",
       "2  , Header, 1. Tournament Goal Assist: , Corner,...           NaN   \n",
       "3  , Right-footed shot, 2. Tournament Goal Assist...           NaN   \n",
       "4                                     , Not reported       49499.0   \n",
       "\n",
       "   player_assist_id  \n",
       "0               NaN  \n",
       "1               NaN  \n",
       "2           56416.0  \n",
       "3          146258.0  \n",
       "4               NaN  "
      ]
     },
     "execution_count": 7,
     "metadata": {},
     "output_type": "execute_result"
    }
   ],
   "source": [
    "game_events_df = dataframes['game_events']\n",
    "game_events_df.head()"
   ]
  },
  {
   "cell_type": "markdown",
   "id": "4673ec59",
   "metadata": {},
   "source": [
    "Features 'agent_name' should be important but have a lot of missing values. Certainly, we do not want to drop the 'agent_name' NaN rows, because we are especially interested in estimating price of players withput knowing their agent. Therefore, we might want to completely ignore the 'agent_name' feature. Let's see if the distribution of mean_price by agent is very uneven:"
   ]
  },
  {
   "cell_type": "code",
   "execution_count": 8,
   "id": "957095fa",
   "metadata": {},
   "outputs": [
    {
     "data": {
      "image/png": "[encoded data removed]",
      "text/plain": [
       "<Figure size 640x480 with 1 Axes>"
      ]
     },
     "metadata": {},
     "output_type": "display_data"
    }
   ],
   "source": [
    "players_df = dataframes['players']\n",
    "\n",
    "by_agent = players_df.groupby('agent_name').agg(MeanPrice=('market_value_in_eur', 'mean'))\n",
    "\n",
    "by_agent.plot(kind='bar')\n",
    "plt.xlabel('Agent')\n",
    "plt.ylabel('Mean Price')\n",
    "plt.title('Mean Price by Agent')\n",
    "plt.xticks([])\n",
    "plt.ylim([0, 25e6])\n",
    "plt.show()"
   ]
  },
  {
   "cell_type": "markdown",
   "id": "2a71480a",
   "metadata": {},
   "source": [
    "It indeed looks like the agent feature is very biased. We will completely ignore it. "
   ]
  },
  {
   "cell_type": "code",
   "execution_count": 9,
   "id": "ee0d9e81",
   "metadata": {},
   "outputs": [],
   "source": [
    "players_df = players_df.drop('agent_name', axis=1)"
   ]
  },
  {
   "cell_type": "markdown",
   "id": "bb9a84b6",
   "metadata": {},
   "source": [
    "<h2>Analysing the 'players' dataframe</h2>"
   ]
  },
  {
   "cell_type": "code",
   "execution_count": 10,
   "id": "d0e4f8fd",
   "metadata": {},
   "outputs": [
    {
     "data": {
      "text/html": [
       "<div>\n",
       "<style scoped>\n",
       "    .dataframe tbody tr th:only-of-type {\n",
       "        vertical-align: middle;\n",
       "    }\n",
       "\n",
       "    .dataframe tbody tr th {\n",
       "        vertical-align: top;\n",
       "    }\n",
       "\n",
       "    .dataframe thead th {\n",
       "        text-align: right;\n",
       "    }\n",
       "</style>\n",
       "<table border=\"1\" class=\"dataframe\">\n",
       "  <thead>\n",
       "    <tr style=\"text-align: right;\">\n",
       "      <th></th>\n",
       "      <th>player_id</th>\n",
       "      <th>first_name</th>\n",
       "      <th>last_name</th>\n",
       "      <th>name</th>\n",
       "      <th>last_season</th>\n",
       "      <th>current_club_id</th>\n",
       "      <th>player_code</th>\n",
       "      <th>country_of_birth</th>\n",
       "      <th>city_of_birth</th>\n",
       "      <th>country_of_citizenship</th>\n",
       "      <th>...</th>\n",
       "      <th>position</th>\n",
       "      <th>foot</th>\n",
       "      <th>height_in_cm</th>\n",
       "      <th>contract_expiration_date</th>\n",
       "      <th>image_url</th>\n",
       "      <th>url</th>\n",
       "      <th>current_club_domestic_competition_id</th>\n",
       "      <th>current_club_name</th>\n",
       "      <th>market_value_in_eur</th>\n",
       "      <th>highest_market_value_in_eur</th>\n",
       "    </tr>\n",
       "  </thead>\n",
       "  <tbody>\n",
       "    <tr>\n",
       "      <th>3480</th>\n",
       "      <td>41100</td>\n",
       "      <td>Steven</td>\n",
       "      <td>De Petter</td>\n",
       "      <td>Steven De Petter</td>\n",
       "      <td>2019</td>\n",
       "      <td>475</td>\n",
       "      <td>steven-de-petter</td>\n",
       "      <td>Belgium</td>\n",
       "      <td>Aalst</td>\n",
       "      <td>Belgium</td>\n",
       "      <td>...</td>\n",
       "      <td>Midfield</td>\n",
       "      <td>right</td>\n",
       "      <td>181.0</td>\n",
       "      <td>NaN</td>\n",
       "      <td>https://img.a.transfermarkt.technology/portrai...</td>\n",
       "      <td>https://www.transfermarkt.co.uk/steven-de-pett...</td>\n",
       "      <td>BE1</td>\n",
       "      <td>Koninklijke Sint-Truidense Voetbalvereniging</td>\n",
       "      <td>200000.0</td>\n",
       "      <td>1000000.0</td>\n",
       "    </tr>\n",
       "    <tr>\n",
       "      <th>15739</th>\n",
       "      <td>271611</td>\n",
       "      <td>Wieger</td>\n",
       "      <td>Sietsma</td>\n",
       "      <td>Wieger Sietsma</td>\n",
       "      <td>2016</td>\n",
       "      <td>306</td>\n",
       "      <td>wieger-sietsma</td>\n",
       "      <td>Netherlands</td>\n",
       "      <td>Groningen</td>\n",
       "      <td>Netherlands</td>\n",
       "      <td>...</td>\n",
       "      <td>Goalkeeper</td>\n",
       "      <td>NaN</td>\n",
       "      <td>195.0</td>\n",
       "      <td>NaN</td>\n",
       "      <td>https://img.a.transfermarkt.technology/portrai...</td>\n",
       "      <td>https://www.transfermarkt.co.uk/wieger-sietsma...</td>\n",
       "      <td>NL1</td>\n",
       "      <td>Sportclub Heerenveen</td>\n",
       "      <td>100000.0</td>\n",
       "      <td>100000.0</td>\n",
       "    </tr>\n",
       "  </tbody>\n",
       "</table>\n",
       "<p>2 rows × 22 columns</p>\n",
       "</div>"
      ],
      "text/plain": [
       "       player_id first_name  last_name              name  last_season  \\\n",
       "3480       41100     Steven  De Petter  Steven De Petter         2019   \n",
       "15739     271611     Wieger    Sietsma    Wieger Sietsma         2016   \n",
       "\n",
       "       current_club_id       player_code country_of_birth city_of_birth  \\\n",
       "3480               475  steven-de-petter          Belgium         Aalst   \n",
       "15739              306    wieger-sietsma      Netherlands     Groningen   \n",
       "\n",
       "      country_of_citizenship  ...    position   foot height_in_cm  \\\n",
       "3480                 Belgium  ...    Midfield  right        181.0   \n",
       "15739            Netherlands  ...  Goalkeeper    NaN        195.0   \n",
       "\n",
       "      contract_expiration_date  \\\n",
       "3480                       NaN   \n",
       "15739                      NaN   \n",
       "\n",
       "                                               image_url  \\\n",
       "3480   https://img.a.transfermarkt.technology/portrai...   \n",
       "15739  https://img.a.transfermarkt.technology/portrai...   \n",
       "\n",
       "                                                     url  \\\n",
       "3480   https://www.transfermarkt.co.uk/steven-de-pett...   \n",
       "15739  https://www.transfermarkt.co.uk/wieger-sietsma...   \n",
       "\n",
       "      current_club_domestic_competition_id  \\\n",
       "3480                                   BE1   \n",
       "15739                                  NL1   \n",
       "\n",
       "                                  current_club_name market_value_in_eur  \\\n",
       "3480   Koninklijke Sint-Truidense Voetbalvereniging            200000.0   \n",
       "15739                          Sportclub Heerenveen            100000.0   \n",
       "\n",
       "      highest_market_value_in_eur  \n",
       "3480                    1000000.0  \n",
       "15739                    100000.0  \n",
       "\n",
       "[2 rows x 22 columns]"
      ]
     },
     "execution_count": 10,
     "metadata": {},
     "output_type": "execute_result"
    }
   ],
   "source": [
    "players_df.sample(2)"
   ]
  },
  {
   "cell_type": "markdown",
   "id": "9f58684c",
   "metadata": {},
   "source": [
    "Let's drop the columns that will not be used: ['first_name', 'last_name', 'name', 'player_code', 'city_of_birth', 'country_of_birth', 'image_url', 'url']"
   ]
  },
  {
   "cell_type": "code",
   "execution_count": 11,
   "id": "d760ab5a",
   "metadata": {},
   "outputs": [],
   "source": [
    "players_df = players_df.drop(columns=['first_name', 'last_name', 'name', 'player_code', \n",
    "                                      'current_club_name', 'image_url', 'url'], axis=1)"
   ]
  },
  {
   "cell_type": "code",
   "execution_count": 12,
   "id": "f54ba706",
   "metadata": {},
   "outputs": [
    {
     "data": {
      "text/html": [
       "<div>\n",
       "<style scoped>\n",
       "    .dataframe tbody tr th:only-of-type {\n",
       "        vertical-align: middle;\n",
       "    }\n",
       "\n",
       "    .dataframe tbody tr th {\n",
       "        vertical-align: top;\n",
       "    }\n",
       "\n",
       "    .dataframe thead th {\n",
       "        text-align: right;\n",
       "    }\n",
       "</style>\n",
       "<table border=\"1\" class=\"dataframe\">\n",
       "  <thead>\n",
       "    <tr style=\"text-align: right;\">\n",
       "      <th></th>\n",
       "      <th>player_id</th>\n",
       "      <th>last_season</th>\n",
       "      <th>current_club_id</th>\n",
       "      <th>country_of_birth</th>\n",
       "      <th>city_of_birth</th>\n",
       "      <th>country_of_citizenship</th>\n",
       "      <th>date_of_birth</th>\n",
       "      <th>sub_position</th>\n",
       "      <th>position</th>\n",
       "      <th>foot</th>\n",
       "      <th>height_in_cm</th>\n",
       "      <th>contract_expiration_date</th>\n",
       "      <th>current_club_domestic_competition_id</th>\n",
       "      <th>market_value_in_eur</th>\n",
       "      <th>highest_market_value_in_eur</th>\n",
       "    </tr>\n",
       "  </thead>\n",
       "  <tbody>\n",
       "    <tr>\n",
       "      <th>14752</th>\n",
       "      <td>249619</td>\n",
       "      <td>2012</td>\n",
       "      <td>9007</td>\n",
       "      <td>NaN</td>\n",
       "      <td>NaN</td>\n",
       "      <td>Ukraine</td>\n",
       "      <td>1992-08-13</td>\n",
       "      <td>Right Midfield</td>\n",
       "      <td>Midfield</td>\n",
       "      <td>NaN</td>\n",
       "      <td>180.0</td>\n",
       "      <td>NaN</td>\n",
       "      <td>UKR1</td>\n",
       "      <td>100000.0</td>\n",
       "      <td>100000.0</td>\n",
       "    </tr>\n",
       "    <tr>\n",
       "      <th>28133</th>\n",
       "      <td>724529</td>\n",
       "      <td>2023</td>\n",
       "      <td>54189</td>\n",
       "      <td>Ireland</td>\n",
       "      <td>Dublin</td>\n",
       "      <td>Ireland</td>\n",
       "      <td>2003-11-14</td>\n",
       "      <td>Left-Back</td>\n",
       "      <td>Defender</td>\n",
       "      <td>left</td>\n",
       "      <td>177.0</td>\n",
       "      <td>2024-06-30 00:00:00</td>\n",
       "      <td>BE1</td>\n",
       "      <td>800000.0</td>\n",
       "      <td>1500000.0</td>\n",
       "    </tr>\n",
       "  </tbody>\n",
       "</table>\n",
       "</div>"
      ],
      "text/plain": [
       "       player_id  last_season  current_club_id country_of_birth city_of_birth  \\\n",
       "14752     249619         2012             9007              NaN           NaN   \n",
       "28133     724529         2023            54189          Ireland        Dublin   \n",
       "\n",
       "      country_of_citizenship date_of_birth    sub_position  position  foot  \\\n",
       "14752                Ukraine    1992-08-13  Right Midfield  Midfield   NaN   \n",
       "28133                Ireland    2003-11-14       Left-Back  Defender  left   \n",
       "\n",
       "       height_in_cm contract_expiration_date  \\\n",
       "14752         180.0                      NaN   \n",
       "28133         177.0      2024-06-30 00:00:00   \n",
       "\n",
       "      current_club_domestic_competition_id  market_value_in_eur  \\\n",
       "14752                                 UKR1             100000.0   \n",
       "28133                                  BE1             800000.0   \n",
       "\n",
       "       highest_market_value_in_eur  \n",
       "14752                     100000.0  \n",
       "28133                    1500000.0  "
      ]
     },
     "execution_count": 12,
     "metadata": {},
     "output_type": "execute_result"
    }
   ],
   "source": [
    "players_df.sample(2)"
   ]
  },
  {
   "cell_type": "markdown",
   "id": "fff84768",
   "metadata": {},
   "source": [
    "The meaning of 'last_season' feature is unclear. There are entries in the dataframe with 'contract_expiration_date' signifiacntly past last season year. It might be wise to consider only the last few seasons, also because of the probable season-mean_price relation and footbal money growth."
   ]
  },
  {
   "cell_type": "code",
   "execution_count": 13,
   "id": "36cd9c34",
   "metadata": {},
   "outputs": [
    {
     "data": {
      "image/png": "[encoded data removed]",
      "text/plain": [
       "<Figure size 640x480 with 1 Axes>"
      ]
     },
     "metadata": {},
     "output_type": "display_data"
    }
   ],
   "source": [
    "by_season = players_df.groupby('last_season').agg(MeanPrice=('market_value_in_eur', 'mean'))\n",
    "\n",
    "by_season.plot(kind='bar')\n",
    "plt.xlabel('Last Season')\n",
    "plt.ylabel('Mean Price')\n",
    "plt.title('Mean Price by Last Season')\n",
    "plt.show()"
   ]
  },
  {
   "cell_type": "markdown",
   "id": "00e7d402",
   "metadata": {},
   "source": [
    "Well, that looks crazy. Let's see if we have enough data to maybe only use the 2023 entries."
   ]
  },
  {
   "cell_type": "code",
   "execution_count": 14,
   "id": "c8ded9dc",
   "metadata": {},
   "outputs": [
    {
     "data": {
      "text/plain": [
       "0.2142622950819672"
      ]
     },
     "execution_count": 14,
     "metadata": {},
     "output_type": "execute_result"
    }
   ],
   "source": [
    "condition = players_df['last_season'] >= 2023\n",
    "\n",
    "len(players_df[condition]) / len(players_df)"
   ]
  },
  {
   "cell_type": "markdown",
   "id": "dab2ec70",
   "metadata": {},
   "source": [
    "Well, it migh not be a bad idea. Let's only keep year 2023."
   ]
  },
  {
   "cell_type": "code",
   "execution_count": 15,
   "id": "567998ef",
   "metadata": {},
   "outputs": [],
   "source": [
    "players_df = players_df[condition]\n",
    "players_df = players_df.drop('last_season', axis=1)"
   ]
  },
  {
   "cell_type": "markdown",
   "id": "8489bf7b",
   "metadata": {},
   "source": [
    "Now, let's tranform the 'date_of_birth' feature into age and 'contract_expiration_date' into 'months_to_contract_end'."
   ]
  },
  {
   "cell_type": "code",
   "execution_count": 16,
   "id": "286d534f",
   "metadata": {},
   "outputs": [],
   "source": [
    "players_df['contract_expiration_date'] = pd.to_datetime(players_df['contract_expiration_date'])\n",
    "now = pd.Timestamp(datetime.now().date())\n",
    "non_na_expiration_dates = players_df['contract_expiration_date'].dropna()\n",
    "months_to_contract_end = (non_na_expiration_dates - now).dt.days / 30.44\n",
    "players_df['months_to_contract_end'] = months_to_contract_end.reindex(players_df.index)\n",
    "players_df['months_to_contract_end'] = players_df['months_to_contract_end'].round()\n",
    "players_df = players_df.drop('contract_expiration_date', axis=1)\n",
    "\n",
    "players_df['date_of_birth'] = pd.to_datetime(players_df['date_of_birth'])\n",
    "now = datetime.now()\n",
    "players_df['age'] = (now - players_df['date_of_birth']).apply(lambda x: x.days) / 365.25\n",
    "players_df['age'] = players_df['age'].round() \n",
    "players_df = players_df.drop('date_of_birth', axis=1)"
   ]
  },
  {
   "cell_type": "markdown",
   "id": "093368a0",
   "metadata": {},
   "source": [
    "Separate categorcial and numerical features:"
   ]
  },
  {
   "cell_type": "code",
   "execution_count": 17,
   "id": "c7047eb2",
   "metadata": {},
   "outputs": [
    {
     "data": {
      "text/html": [
       "<div>\n",
       "<style scoped>\n",
       "    .dataframe tbody tr th:only-of-type {\n",
       "        vertical-align: middle;\n",
       "    }\n",
       "\n",
       "    .dataframe tbody tr th {\n",
       "        vertical-align: top;\n",
       "    }\n",
       "\n",
       "    .dataframe thead th {\n",
       "        text-align: right;\n",
       "    }\n",
       "</style>\n",
       "<table border=\"1\" class=\"dataframe\">\n",
       "  <thead>\n",
       "    <tr style=\"text-align: right;\">\n",
       "      <th></th>\n",
       "      <th>player_id</th>\n",
       "      <th>current_club_id</th>\n",
       "      <th>country_of_birth</th>\n",
       "      <th>city_of_birth</th>\n",
       "      <th>country_of_citizenship</th>\n",
       "      <th>sub_position</th>\n",
       "      <th>position</th>\n",
       "      <th>foot</th>\n",
       "      <th>height_in_cm</th>\n",
       "      <th>current_club_domestic_competition_id</th>\n",
       "      <th>market_value_in_eur</th>\n",
       "      <th>highest_market_value_in_eur</th>\n",
       "      <th>months_to_contract_end</th>\n",
       "      <th>age</th>\n",
       "    </tr>\n",
       "  </thead>\n",
       "  <tbody>\n",
       "    <tr>\n",
       "      <th>26159</th>\n",
       "      <td>616369</td>\n",
       "      <td>681</td>\n",
       "      <td>Spain</td>\n",
       "      <td>Donostia-San Sebastián</td>\n",
       "      <td>Spain</td>\n",
       "      <td>Left Winger</td>\n",
       "      <td>Attack</td>\n",
       "      <td>right</td>\n",
       "      <td>175.0</td>\n",
       "      <td>ES1</td>\n",
       "      <td>20000000.0</td>\n",
       "      <td>20000000.0</td>\n",
       "      <td>76.0</td>\n",
       "      <td>22.0</td>\n",
       "    </tr>\n",
       "    <tr>\n",
       "      <th>23016</th>\n",
       "      <td>477758</td>\n",
       "      <td>985</td>\n",
       "      <td>England</td>\n",
       "      <td>London</td>\n",
       "      <td>England</td>\n",
       "      <td>Right-Back</td>\n",
       "      <td>Defender</td>\n",
       "      <td>right</td>\n",
       "      <td>183.0</td>\n",
       "      <td>GB1</td>\n",
       "      <td>20000000.0</td>\n",
       "      <td>40000000.0</td>\n",
       "      <td>16.0</td>\n",
       "      <td>26.0</td>\n",
       "    </tr>\n",
       "  </tbody>\n",
       "</table>\n",
       "</div>"
      ],
      "text/plain": [
       "       player_id  current_club_id country_of_birth           city_of_birth  \\\n",
       "26159     616369              681            Spain  Donostia-San Sebastián   \n",
       "23016     477758              985          England                  London   \n",
       "\n",
       "      country_of_citizenship sub_position  position   foot  height_in_cm  \\\n",
       "26159                  Spain  Left Winger    Attack  right         175.0   \n",
       "23016                England   Right-Back  Defender  right         183.0   \n",
       "\n",
       "      current_club_domestic_competition_id  market_value_in_eur  \\\n",
       "26159                                  ES1           20000000.0   \n",
       "23016                                  GB1           20000000.0   \n",
       "\n",
       "       highest_market_value_in_eur  months_to_contract_end   age  \n",
       "26159                   20000000.0                    76.0  22.0  \n",
       "23016                   40000000.0                    16.0  26.0  "
      ]
     },
     "execution_count": 17,
     "metadata": {},
     "output_type": "execute_result"
    }
   ],
   "source": [
    "players_df.sample(2)"
   ]
  },
  {
   "cell_type": "code",
   "execution_count": 18,
   "id": "02592fb9",
   "metadata": {},
   "outputs": [],
   "source": [
    "categorical = ['current_club_id', 'country_of_citizenship', 'sub_position', \n",
    "               'position', 'foot', 'current_club_domestic_competition_id', \n",
    "              'city_of_birth', 'country_of_birth']\n",
    "\n",
    "numerical = ['height_in_cm', 'age', 'months_to_contract_end'] \n",
    "\n",
    "all_features = categorical + numerical"
   ]
  },
  {
   "cell_type": "markdown",
   "id": "be68efc4",
   "metadata": {},
   "source": [
    "Let's drop NaN's and try training a simple model."
   ]
  },
  {
   "cell_type": "code",
   "execution_count": 19,
   "id": "17c06be7",
   "metadata": {},
   "outputs": [
    {
     "data": {
      "application/vnd.jupyter.widget-view+json": {
       "model_id": "d07b375bec3b4a0abc0526dbfe5d356d",
       "version_major": 2,
       "version_minor": 0
      },
      "text/plain": [
       "MetricVisualizer(layout=Layout(align_self='stretch', height='500px'))"
      ]
     },
     "metadata": {},
     "output_type": "display_data"
    },
    {
     "name": "stdout",
     "output_type": "stream",
     "text": [
      "R2 accuracy score: 0.5 \n",
      "\n",
      "Feature importances: \n",
      "\n",
      "current_club_id : 30.26\n",
      "country_of_citizenship : 3.79\n",
      "sub_position : 2.53\n",
      "position : 2.73\n",
      "foot : 3.84\n",
      "current_club_domestic_competition_id : 7.04\n",
      "city_of_birth : 1.61\n",
      "country_of_birth : 0.59\n",
      "height_in_cm : 17.3\n",
      "age : 22.11\n",
      "months_to_contract_end : 8.2\n"
     ]
    }
   ],
   "source": [
    "players_df = players_df.dropna()\n",
    "\n",
    "X = players_df.drop(columns=['market_value_in_eur', 'highest_market_value_in_eur', 'player_id'], axis=1)\n",
    "y = players_df['market_value_in_eur']\n",
    "X_train, X_val, y_train, y_val = train_test_split(X, y, test_size=0.2, random_state=12)\n",
    "\n",
    "model = CatBoostRegressor(\n",
    "    iterations=8000,\n",
    "    learning_rate=0.001,\n",
    "    cat_features=categorical, \n",
    "    eval_metric = 'MAE'\n",
    ") \n",
    "\n",
    "model.fit(\n",
    "    X_train, y_train,\n",
    "    cat_features=categorical,\n",
    "    eval_set=(X_val, y_val),\n",
    "    logging_level='Silent',\n",
    "    plot=True\n",
    ")\n",
    "\n",
    "print(f'R2 accuracy score: {round(model.score(X_val, y_val), 2)} \\n')\n",
    "\n",
    "print('Feature importances: \\n')\n",
    "feature_importances = model.get_feature_importance(Pool(X, label=y, cat_features=categorical))\n",
    "for i in range(len(feature_importances)):\n",
    "    print(f'{all_features[i]} : {round(feature_importances[i], 2)}')"
   ]
  },
  {
   "cell_type": "markdown",
   "id": "b502d1f2",
   "metadata": {},
   "source": [
    "Well, that is quite a horrible mean_loss. Rougly 80% of the mean target value. Let's engineer features from other dataframes."
   ]
  },
  {
   "cell_type": "markdown",
   "id": "d4ebfa6f",
   "metadata": {},
   "source": [
    "<h2>Feature engineering</h2>"
   ]
  },
  {
   "cell_type": "markdown",
   "id": "b5a11ff7",
   "metadata": {},
   "source": [
    "Note from the 'feature importances' above that 'position' feature had surprisingly weight for model predictions. Let's see whether the mean_price ditribution over position is indeed close to uniform."
   ]
  },
  {
   "cell_type": "code",
   "execution_count": 20,
   "id": "06f08bc0",
   "metadata": {},
   "outputs": [
    {
     "data": {
      "image/png": "[encoded data removed]",
      "text/plain": [
       "<Figure size 640x480 with 1 Axes>"
      ]
     },
     "metadata": {},
     "output_type": "display_data"
    }
   ],
   "source": [
    "by_position = players_df.groupby('position').agg(MeanPrice=('market_value_in_eur', 'mean'))\n",
    "\n",
    "by_position.plot(kind='bar')\n",
    "plt.xlabel('Position')\n",
    "plt.ylabel('Mean Price')\n",
    "plt.title('Mean Price by Position')\n",
    "plt.show()"
   ]
  },
  {
   "cell_type": "markdown",
   "id": "f9f867a9",
   "metadata": {},
   "source": [
    "Ok. They are indeed of the same order of magnitude. Let's investigate the apperances table."
   ]
  },
  {
   "cell_type": "code",
   "execution_count": 21,
   "id": "57d855d1",
   "metadata": {},
   "outputs": [
    {
     "data": {
      "text/html": [
       "<div>\n",
       "<style scoped>\n",
       "    .dataframe tbody tr th:only-of-type {\n",
       "        vertical-align: middle;\n",
       "    }\n",
       "\n",
       "    .dataframe tbody tr th {\n",
       "        vertical-align: top;\n",
       "    }\n",
       "\n",
       "    .dataframe thead th {\n",
       "        text-align: right;\n",
       "    }\n",
       "</style>\n",
       "<table border=\"1\" class=\"dataframe\">\n",
       "  <thead>\n",
       "    <tr style=\"text-align: right;\">\n",
       "      <th></th>\n",
       "      <th>appearance_id</th>\n",
       "      <th>game_id</th>\n",
       "      <th>player_id</th>\n",
       "      <th>player_club_id</th>\n",
       "      <th>player_current_club_id</th>\n",
       "      <th>date</th>\n",
       "      <th>player_name</th>\n",
       "      <th>competition_id</th>\n",
       "      <th>yellow_cards</th>\n",
       "      <th>red_cards</th>\n",
       "      <th>goals</th>\n",
       "      <th>assists</th>\n",
       "      <th>minutes_played</th>\n",
       "    </tr>\n",
       "  </thead>\n",
       "  <tbody>\n",
       "    <tr>\n",
       "      <th>1290238</th>\n",
       "      <td>3602623_241119</td>\n",
       "      <td>3602623</td>\n",
       "      <td>241119</td>\n",
       "      <td>121</td>\n",
       "      <td>2381</td>\n",
       "      <td>2022-05-06</td>\n",
       "      <td>Clinton N'Jie</td>\n",
       "      <td>RU1</td>\n",
       "      <td>0</td>\n",
       "      <td>0</td>\n",
       "      <td>0</td>\n",
       "      <td>0</td>\n",
       "      <td>64</td>\n",
       "    </tr>\n",
       "    <tr>\n",
       "      <th>530633</th>\n",
       "      <td>2718708_221316</td>\n",
       "      <td>2718708</td>\n",
       "      <td>221316</td>\n",
       "      <td>418</td>\n",
       "      <td>418</td>\n",
       "      <td>2016-08-21</td>\n",
       "      <td>Lucas Vázquez</td>\n",
       "      <td>ES1</td>\n",
       "      <td>0</td>\n",
       "      <td>0</td>\n",
       "      <td>0</td>\n",
       "      <td>0</td>\n",
       "      <td>24</td>\n",
       "    </tr>\n",
       "    <tr>\n",
       "      <th>127551</th>\n",
       "      <td>2242987_12249</td>\n",
       "      <td>2242987</td>\n",
       "      <td>12249</td>\n",
       "      <td>1049</td>\n",
       "      <td>368</td>\n",
       "      <td>2013-05-18</td>\n",
       "      <td>Éver Banega</td>\n",
       "      <td>ES1</td>\n",
       "      <td>0</td>\n",
       "      <td>0</td>\n",
       "      <td>0</td>\n",
       "      <td>1</td>\n",
       "      <td>89</td>\n",
       "    </tr>\n",
       "  </tbody>\n",
       "</table>\n",
       "</div>"
      ],
      "text/plain": [
       "          appearance_id  game_id  player_id  player_club_id  \\\n",
       "1290238  3602623_241119  3602623     241119             121   \n",
       "530633   2718708_221316  2718708     221316             418   \n",
       "127551    2242987_12249  2242987      12249            1049   \n",
       "\n",
       "         player_current_club_id        date    player_name competition_id  \\\n",
       "1290238                    2381  2022-05-06  Clinton N'Jie            RU1   \n",
       "530633                      418  2016-08-21  Lucas Vázquez            ES1   \n",
       "127551                      368  2013-05-18    Éver Banega            ES1   \n",
       "\n",
       "         yellow_cards  red_cards  goals  assists  minutes_played  \n",
       "1290238             0          0      0        0              64  \n",
       "530633              0          0      0        0              24  \n",
       "127551              0          0      0        1              89  "
      ]
     },
     "execution_count": 21,
     "metadata": {},
     "output_type": "execute_result"
    }
   ],
   "source": [
    "games_df = dataframes['games']\n",
    "appearances_df = dataframes['appearances']\n",
    "\n",
    "appearances_df.sample(3)"
   ]
  },
  {
   "cell_type": "markdown",
   "id": "5133a8e7",
   "metadata": {},
   "source": [
    "Let's filter out players with last_season != 2023 and then add the group_by statistics to players_df table"
   ]
  },
  {
   "cell_type": "code",
   "execution_count": 22,
   "id": "44a83fee",
   "metadata": {},
   "outputs": [
    {
     "name": "stderr",
     "output_type": "stream",
     "text": [
      "/var/folders/y5/wrdrrgbd2zvfbnq8j5r4mrqm0000gn/T/ipykernel_98674/2055968717.py:2: SettingWithCopyWarning: \n",
      "A value is trying to be set on a copy of a slice from a DataFrame.\n",
      "Try using .loc[row_indexer,col_indexer] = value instead\n",
      "\n",
      "See the caveats in the documentation: https://pandas.pydata.org/pandas-docs/stable/user_guide/indexing.html#returning-a-view-versus-a-copy\n",
      "  appearances_df['num_games'] = 1\n"
     ]
    }
   ],
   "source": [
    "appearances_df = appearances_df[appearances_df['player_id'].isin(players_df['player_id'])]\n",
    "appearances_df['num_games'] = 1\n",
    "\n",
    "by_player = appearances_df.groupby('player_id').sum()\n",
    "by_player = by_player[['yellow_cards', 'red_cards', 'goals', 'assists', 'minutes_played', 'num_games']]"
   ]
  },
  {
   "cell_type": "markdown",
   "id": "49c3a144",
   "metadata": {},
   "source": [
    "Let's merge that with the players dataframe"
   ]
  },
  {
   "cell_type": "code",
   "execution_count": 23,
   "id": "c5e1a3f6",
   "metadata": {
    "scrolled": false
   },
   "outputs": [
    {
     "data": {
      "text/html": [
       "<div>\n",
       "<style scoped>\n",
       "    .dataframe tbody tr th:only-of-type {\n",
       "        vertical-align: middle;\n",
       "    }\n",
       "\n",
       "    .dataframe tbody tr th {\n",
       "        vertical-align: top;\n",
       "    }\n",
       "\n",
       "    .dataframe thead th {\n",
       "        text-align: right;\n",
       "    }\n",
       "</style>\n",
       "<table border=\"1\" class=\"dataframe\">\n",
       "  <thead>\n",
       "    <tr style=\"text-align: right;\">\n",
       "      <th></th>\n",
       "      <th>player_id</th>\n",
       "      <th>current_club_id</th>\n",
       "      <th>country_of_birth</th>\n",
       "      <th>city_of_birth</th>\n",
       "      <th>country_of_citizenship</th>\n",
       "      <th>sub_position</th>\n",
       "      <th>position</th>\n",
       "      <th>foot</th>\n",
       "      <th>height_in_cm</th>\n",
       "      <th>current_club_domestic_competition_id</th>\n",
       "      <th>market_value_in_eur</th>\n",
       "      <th>highest_market_value_in_eur</th>\n",
       "      <th>months_to_contract_end</th>\n",
       "      <th>age</th>\n",
       "      <th>yellow_cards</th>\n",
       "      <th>red_cards</th>\n",
       "      <th>goals</th>\n",
       "      <th>assists</th>\n",
       "      <th>minutes_played</th>\n",
       "      <th>num_games</th>\n",
       "    </tr>\n",
       "  </thead>\n",
       "  <tbody>\n",
       "    <tr>\n",
       "      <th>2934</th>\n",
       "      <td>380350</td>\n",
       "      <td>1237</td>\n",
       "      <td>Brazil</td>\n",
       "      <td>Bom Sucesso</td>\n",
       "      <td>Brazil</td>\n",
       "      <td>Centre-Back</td>\n",
       "      <td>Defender</td>\n",
       "      <td>left</td>\n",
       "      <td>188.0</td>\n",
       "      <td>GB1</td>\n",
       "      <td>17000000.0</td>\n",
       "      <td>17000000.0</td>\n",
       "      <td>40.0</td>\n",
       "      <td>26.0</td>\n",
       "      <td>38</td>\n",
       "      <td>0</td>\n",
       "      <td>1</td>\n",
       "      <td>2</td>\n",
       "      <td>9989</td>\n",
       "      <td>139</td>\n",
       "    </tr>\n",
       "    <tr>\n",
       "      <th>1813</th>\n",
       "      <td>258004</td>\n",
       "      <td>281</td>\n",
       "      <td>Portugal</td>\n",
       "      <td>Amadora</td>\n",
       "      <td>Portugal</td>\n",
       "      <td>Centre-Back</td>\n",
       "      <td>Defender</td>\n",
       "      <td>right</td>\n",
       "      <td>187.0</td>\n",
       "      <td>GB1</td>\n",
       "      <td>80000000.0</td>\n",
       "      <td>80000000.0</td>\n",
       "      <td>40.0</td>\n",
       "      <td>27.0</td>\n",
       "      <td>46</td>\n",
       "      <td>0</td>\n",
       "      <td>15</td>\n",
       "      <td>10</td>\n",
       "      <td>24102</td>\n",
       "      <td>280</td>\n",
       "    </tr>\n",
       "    <tr>\n",
       "      <th>4259</th>\n",
       "      <td>566931</td>\n",
       "      <td>23826</td>\n",
       "      <td>Netherlands</td>\n",
       "      <td>Amsterdam</td>\n",
       "      <td>Netherlands</td>\n",
       "      <td>Right Winger</td>\n",
       "      <td>Attack</td>\n",
       "      <td>right</td>\n",
       "      <td>179.0</td>\n",
       "      <td>L1</td>\n",
       "      <td>70000000.0</td>\n",
       "      <td>70000000.0</td>\n",
       "      <td>4.0</td>\n",
       "      <td>21.0</td>\n",
       "      <td>14</td>\n",
       "      <td>0</td>\n",
       "      <td>30</td>\n",
       "      <td>21</td>\n",
       "      <td>6351</td>\n",
       "      <td>86</td>\n",
       "    </tr>\n",
       "    <tr>\n",
       "      <th>5119</th>\n",
       "      <td>743122</td>\n",
       "      <td>2282</td>\n",
       "      <td>Belgium</td>\n",
       "      <td>Gent</td>\n",
       "      <td>Belgium</td>\n",
       "      <td>Right-Back</td>\n",
       "      <td>Defender</td>\n",
       "      <td>right</td>\n",
       "      <td>176.0</td>\n",
       "      <td>BE1</td>\n",
       "      <td>2500000.0</td>\n",
       "      <td>2500000.0</td>\n",
       "      <td>16.0</td>\n",
       "      <td>19.0</td>\n",
       "      <td>0</td>\n",
       "      <td>0</td>\n",
       "      <td>0</td>\n",
       "      <td>3</td>\n",
       "      <td>599</td>\n",
       "      <td>16</td>\n",
       "    </tr>\n",
       "    <tr>\n",
       "      <th>5334</th>\n",
       "      <td>854325</td>\n",
       "      <td>172</td>\n",
       "      <td>France</td>\n",
       "      <td>Noisy-le-Grand</td>\n",
       "      <td>France</td>\n",
       "      <td>Defensive Midfield</td>\n",
       "      <td>Midfield</td>\n",
       "      <td>left</td>\n",
       "      <td>191.0</td>\n",
       "      <td>BE1</td>\n",
       "      <td>1200000.0</td>\n",
       "      <td>1200000.0</td>\n",
       "      <td>40.0</td>\n",
       "      <td>21.0</td>\n",
       "      <td>2</td>\n",
       "      <td>0</td>\n",
       "      <td>0</td>\n",
       "      <td>0</td>\n",
       "      <td>269</td>\n",
       "      <td>4</td>\n",
       "    </tr>\n",
       "  </tbody>\n",
       "</table>\n",
       "</div>"
      ],
      "text/plain": [
       "      player_id  current_club_id country_of_birth   city_of_birth  \\\n",
       "2934     380350             1237           Brazil     Bom Sucesso   \n",
       "1813     258004              281         Portugal         Amadora   \n",
       "4259     566931            23826      Netherlands       Amsterdam   \n",
       "5119     743122             2282          Belgium            Gent   \n",
       "5334     854325              172           France  Noisy-le-Grand   \n",
       "\n",
       "     country_of_citizenship        sub_position  position   foot  \\\n",
       "2934                 Brazil         Centre-Back  Defender   left   \n",
       "1813               Portugal         Centre-Back  Defender  right   \n",
       "4259            Netherlands        Right Winger    Attack  right   \n",
       "5119                Belgium          Right-Back  Defender  right   \n",
       "5334                 France  Defensive Midfield  Midfield   left   \n",
       "\n",
       "      height_in_cm current_club_domestic_competition_id  market_value_in_eur  \\\n",
       "2934         188.0                                  GB1           17000000.0   \n",
       "1813         187.0                                  GB1           80000000.0   \n",
       "4259         179.0                                   L1           70000000.0   \n",
       "5119         176.0                                  BE1            2500000.0   \n",
       "5334         191.0                                  BE1            1200000.0   \n",
       "\n",
       "      highest_market_value_in_eur  months_to_contract_end   age  yellow_cards  \\\n",
       "2934                   17000000.0                    40.0  26.0            38   \n",
       "1813                   80000000.0                    40.0  27.0            46   \n",
       "4259                   70000000.0                     4.0  21.0            14   \n",
       "5119                    2500000.0                    16.0  19.0             0   \n",
       "5334                    1200000.0                    40.0  21.0             2   \n",
       "\n",
       "      red_cards  goals  assists  minutes_played  num_games  \n",
       "2934          0      1        2            9989        139  \n",
       "1813          0     15       10           24102        280  \n",
       "4259          0     30       21            6351         86  \n",
       "5119          0      0        3             599         16  \n",
       "5334          0      0        0             269          4  "
      ]
     },
     "execution_count": 23,
     "metadata": {},
     "output_type": "execute_result"
    }
   ],
   "source": [
    "players_df = pd.merge(players_df, by_player, on='player_id', suffixes=('', ''))\n",
    "\n",
    "players_df.sample(5)"
   ]
  },
  {
   "cell_type": "markdown",
   "id": "20b69cd0",
   "metadata": {},
   "source": [
    "Let's try learning a model!"
   ]
  },
  {
   "cell_type": "code",
   "execution_count": 24,
   "id": "2ab91d45",
   "metadata": {},
   "outputs": [],
   "source": [
    "categorical = ['current_club_id', 'country_of_citizenship', 'sub_position', \n",
    "               'position', 'foot', 'current_club_domestic_competition_id',\n",
    "              'city_of_birth', 'country_of_birth']\n",
    "\n",
    "numerical = ['height_in_cm', 'age', 'months_to_contract_end', 'yellow_cards', 'red_cards',\n",
    "            'goals', 'assists', 'minutes_played', 'num_games'] \n",
    "\n",
    "all_features = categorical + numerical"
   ]
  },
  {
   "cell_type": "code",
   "execution_count": 25,
   "id": "04740c31",
   "metadata": {},
   "outputs": [
    {
     "data": {
      "application/vnd.jupyter.widget-view+json": {
       "model_id": "b066f8307c9d4d7f8c68fcaa392899a0",
       "version_major": 2,
       "version_minor": 0
      },
      "text/plain": [
       "MetricVisualizer(layout=Layout(align_self='stretch', height='500px'))"
      ]
     },
     "metadata": {},
     "output_type": "display_data"
    },
    {
     "name": "stdout",
     "output_type": "stream",
     "text": [
      "R2 accuracy score: 0.75 \n",
      "\n",
      "Feature importances: \n",
      "\n",
      "current_club_id : 12.58\n",
      "country_of_citizenship : 2.26\n",
      "sub_position : 1.08\n",
      "position : 1.84\n",
      "foot : 1.27\n",
      "current_club_domestic_competition_id : 0.92\n",
      "city_of_birth : 1.06\n",
      "country_of_birth : 1.17\n",
      "height_in_cm : 11.47\n",
      "age : 10.63\n",
      "months_to_contract_end : 19.63\n",
      "yellow_cards : 2.97\n",
      "red_cards : 0.32\n",
      "goals : 9.2\n",
      "assists : 8.96\n",
      "minutes_played : 9.19\n",
      "num_games : 5.46\n"
     ]
    }
   ],
   "source": [
    "players_df = players_df.dropna()\n",
    "\n",
    "X = players_df.drop(columns=['market_value_in_eur', 'highest_market_value_in_eur', 'player_id'], axis=1)\n",
    "y = players_df['market_value_in_eur']\n",
    "X_train, X_val, y_train, y_val = train_test_split(X, y, test_size=0.2, random_state=12)\n",
    "\n",
    "model = CatBoostRegressor(\n",
    "    iterations=8000,\n",
    "    learning_rate=0.01,\n",
    "    cat_features=categorical, \n",
    "    eval_metric = 'MAE'\n",
    ") \n",
    "\n",
    "model.fit(\n",
    "    X_train, y_train,\n",
    "    cat_features=categorical,\n",
    "    eval_set=(X_val, y_val),\n",
    "    logging_level='Silent',\n",
    "    plot=True\n",
    ")\n",
    "\n",
    "print(f'R2 accuracy score: {round(model.score(X_val, y_val), 2)} \\n')\n",
    "\n",
    "print('Feature importances: \\n')\n",
    "feature_importances = model.get_feature_importance(Pool(X, label=y, cat_features=categorical))\n",
    "for i in range(len(feature_importances)):\n",
    "    print(f'{all_features[i]} : {round(feature_importances[i], 2)}')"
   ]
  },
  {
   "cell_type": "markdown",
   "id": "33386b38",
   "metadata": {},
   "source": [
    "Certainly an improvement but still really bad. These new features are very attack-oriented. We should try engineering something that measures the defensive qualities. But before that, let's try training and evaluating only for players with Attack value of feature 'position' and see if the performance will improve. "
   ]
  },
  {
   "cell_type": "code",
   "execution_count": 26,
   "id": "54858363",
   "metadata": {},
   "outputs": [
    {
     "name": "stdout",
     "output_type": "stream",
     "text": [
      "R2 accuracy score: 0.7 \n",
      "\n",
      "Feature importances: \n",
      "\n",
      "current_club_id : 5.97\n",
      "country_of_citizenship : 1.7\n",
      "sub_position : 0.35\n",
      "position : 1.88\n",
      "foot : 0.96\n",
      "current_club_domestic_competition_id : 0.0\n",
      "city_of_birth : 1.27\n",
      "country_of_birth : 0.31\n",
      "height_in_cm : 15.49\n",
      "age : 9.08\n",
      "months_to_contract_end : 24.42\n",
      "yellow_cards : 1.69\n",
      "red_cards : 0.38\n",
      "goals : 16.33\n",
      "assists : 14.4\n",
      "minutes_played : 3.27\n",
      "num_games : 2.49\n"
     ]
    }
   ],
   "source": [
    "condition = players_df['position'] == 'Attack'\n",
    "attackers_df = players_df[condition]\n",
    "\n",
    "X = attackers_df.drop(columns=['market_value_in_eur', 'highest_market_value_in_eur', 'player_id'], axis=1)\n",
    "y = attackers_df['market_value_in_eur']\n",
    "X_train, X_val, y_train, y_val = train_test_split(X, y, test_size=0.2, random_state=12)\n",
    "\n",
    "model = CatBoostRegressor(\n",
    "    iterations=8000,\n",
    "    learning_rate=0.001,\n",
    "    cat_features=categorical, \n",
    "    eval_metric = 'MAE'\n",
    ") \n",
    "\n",
    "model.fit(\n",
    "    X_train, y_train,\n",
    "    cat_features=categorical,\n",
    "    eval_set=(X_val, y_val),\n",
    "    logging_level='Silent',\n",
    "    plot=False\n",
    ")\n",
    "\n",
    "print(f'R2 accuracy score: {round(model.score(X_val, y_val), 2)} \\n')\n",
    "\n",
    "print('Feature importances: \\n')\n",
    "feature_importances = model.get_feature_importance(Pool(X, label=y, cat_features=categorical))\n",
    "for i in range(len(feature_importances)):\n",
    "    print(f'{all_features[i]} : {round(feature_importances[i], 2)}')"
   ]
  },
  {
   "cell_type": "markdown",
   "id": "18e2c717",
   "metadata": {},
   "source": [
    "Surpisingly, the performance has dropped. Also, 'assists' feature got more weight that 'goals'. Which is either a nice football insight or an indicator of weak learning of our model. Another detail worth mentioning is the importance of 'months_to_contract_end' feature. A longer contract indicates the value of a player in time. Let's investigate the game_events table and try collecting valuable info."
   ]
  },
  {
   "cell_type": "code",
   "execution_count": 27,
   "id": "1149f784",
   "metadata": {},
   "outputs": [
    {
     "name": "stdout",
     "output_type": "stream",
     "text": [
      "['Cards' 'Goals' 'Substitutions' 'Shootout']\n"
     ]
    },
    {
     "data": {
      "text/html": [
       "<div>\n",
       "<style scoped>\n",
       "    .dataframe tbody tr th:only-of-type {\n",
       "        vertical-align: middle;\n",
       "    }\n",
       "\n",
       "    .dataframe tbody tr th {\n",
       "        vertical-align: top;\n",
       "    }\n",
       "\n",
       "    .dataframe thead th {\n",
       "        text-align: right;\n",
       "    }\n",
       "</style>\n",
       "<table border=\"1\" class=\"dataframe\">\n",
       "  <thead>\n",
       "    <tr style=\"text-align: right;\">\n",
       "      <th></th>\n",
       "      <th>game_event_id</th>\n",
       "      <th>date</th>\n",
       "      <th>game_id</th>\n",
       "      <th>minute</th>\n",
       "      <th>type</th>\n",
       "      <th>club_id</th>\n",
       "      <th>player_id</th>\n",
       "      <th>description</th>\n",
       "      <th>player_in_id</th>\n",
       "      <th>player_assist_id</th>\n",
       "    </tr>\n",
       "  </thead>\n",
       "  <tbody>\n",
       "    <tr>\n",
       "      <th>573697</th>\n",
       "      <td>f673fe05a237d96e8f16ab5e39324ce2</td>\n",
       "      <td>2022-09-18</td>\n",
       "      <td>3851092</td>\n",
       "      <td>77</td>\n",
       "      <td>Substitutions</td>\n",
       "      <td>601</td>\n",
       "      <td>748939</td>\n",
       "      <td>NaN</td>\n",
       "      <td>486053.0</td>\n",
       "      <td>NaN</td>\n",
       "    </tr>\n",
       "    <tr>\n",
       "      <th>518830</th>\n",
       "      <td>beee492c65d89e5f364497fca877edb7</td>\n",
       "      <td>2022-02-05</td>\n",
       "      <td>3610326</td>\n",
       "      <td>77</td>\n",
       "      <td>Substitutions</td>\n",
       "      <td>368</td>\n",
       "      <td>182877</td>\n",
       "      <td>NaN</td>\n",
       "      <td>223725.0</td>\n",
       "      <td>NaN</td>\n",
       "    </tr>\n",
       "    <tr>\n",
       "      <th>581586</th>\n",
       "      <td>d79e1305cffbfaab4b266174fb15f930</td>\n",
       "      <td>2023-01-04</td>\n",
       "      <td>3860324</td>\n",
       "      <td>46</td>\n",
       "      <td>Substitutions</td>\n",
       "      <td>3205</td>\n",
       "      <td>269393</td>\n",
       "      <td>NaN</td>\n",
       "      <td>257785.0</td>\n",
       "      <td>NaN</td>\n",
       "    </tr>\n",
       "    <tr>\n",
       "      <th>568348</th>\n",
       "      <td>90717b6294bc2d0cfd43d3d4ab76c3d5</td>\n",
       "      <td>2022-08-22</td>\n",
       "      <td>3844600</td>\n",
       "      <td>55</td>\n",
       "      <td>Substitutions</td>\n",
       "      <td>12321</td>\n",
       "      <td>461617</td>\n",
       "      <td>NaN</td>\n",
       "      <td>131506.0</td>\n",
       "      <td>NaN</td>\n",
       "    </tr>\n",
       "    <tr>\n",
       "      <th>400964</th>\n",
       "      <td>708ebe66c14c8cd54ffc09bdad2e13d3</td>\n",
       "      <td>2020-03-01</td>\n",
       "      <td>3219202</td>\n",
       "      <td>90</td>\n",
       "      <td>Substitutions</td>\n",
       "      <td>148</td>\n",
       "      <td>192765</td>\n",
       "      <td>NaN</td>\n",
       "      <td>552655.0</td>\n",
       "      <td>NaN</td>\n",
       "    </tr>\n",
       "  </tbody>\n",
       "</table>\n",
       "</div>"
      ],
      "text/plain": [
       "                           game_event_id        date  game_id  minute  \\\n",
       "573697  f673fe05a237d96e8f16ab5e39324ce2  2022-09-18  3851092      77   \n",
       "518830  beee492c65d89e5f364497fca877edb7  2022-02-05  3610326      77   \n",
       "581586  d79e1305cffbfaab4b266174fb15f930  2023-01-04  3860324      46   \n",
       "568348  90717b6294bc2d0cfd43d3d4ab76c3d5  2022-08-22  3844600      55   \n",
       "400964  708ebe66c14c8cd54ffc09bdad2e13d3  2020-03-01  3219202      90   \n",
       "\n",
       "                 type  club_id  player_id description  player_in_id  \\\n",
       "573697  Substitutions      601     748939         NaN      486053.0   \n",
       "518830  Substitutions      368     182877         NaN      223725.0   \n",
       "581586  Substitutions     3205     269393         NaN      257785.0   \n",
       "568348  Substitutions    12321     461617         NaN      131506.0   \n",
       "400964  Substitutions      148     192765         NaN      552655.0   \n",
       "\n",
       "        player_assist_id  \n",
       "573697               NaN  \n",
       "518830               NaN  \n",
       "581586               NaN  \n",
       "568348               NaN  \n",
       "400964               NaN  "
      ]
     },
     "execution_count": 27,
     "metadata": {},
     "output_type": "execute_result"
    }
   ],
   "source": [
    "game_events_df = game_events_df[game_events_df['player_id'].isin(players_df['player_id'])]\n",
    "print(game_events_df['type'].unique())\n",
    "game_events_df.sample(5)"
   ]
  },
  {
   "cell_type": "markdown",
   "id": "b20e1304",
   "metadata": {},
   "source": [
    "That is not very rich. Unfortunately, there is no free-kick statistic. Possibilities are: count percentage of games a given player was substituted during his games; count percentage of shootouts that were scored by a given player. Maybe, there is more info in the 'description' column. Hopefully, it is structured."
   ]
  },
  {
   "cell_type": "code",
   "execution_count": 28,
   "id": "61177974",
   "metadata": {},
   "outputs": [
    {
     "name": "stdout",
     "output_type": "stream",
     "text": [
      "[', Header, 1. Tournament Goal Assist: , Corner, 1. Tournament Assist'\n",
      " ', Left-footed shot, 1. Tournament Goal Assist: , Pass, 1. Tournament Assist'\n",
      " ', Left-footed shot, 2. Tournament Goal Assist: , Pass, 1. Tournament Assist'\n",
      " ...\n",
      " ', Right-footed shot, 10. Goal of the Season Assist: , Pass, 8. Assist of the Season'\n",
      " ', Penalty, 6. Tournament Goal Assist: Handball by'\n",
      " ', Header, 1. Tournament Goal Assist: , Shot on goal, 1. Tournament Assist'] 2456\n"
     ]
    }
   ],
   "source": [
    "descriptions = game_events_df.loc[game_events_df['type'] == 'Goals']['description']\n",
    "print(descriptions.unique(), len(descriptions.unique()))"
   ]
  },
  {
   "cell_type": "markdown",
   "id": "5e63c4a6",
   "metadata": {},
   "source": [
    "It is not obvious how to make use of that in a clever way. For now, let's stick to more basic features. "
   ]
  },
  {
   "cell_type": "code",
   "execution_count": 29,
   "id": "a7918dab",
   "metadata": {},
   "outputs": [],
   "source": [
    "subs_by_player = game_events_df.groupby('player_id')['type'].apply(lambda x: (x == 'Substitutions').sum()).reset_index(name='substitutions')\n",
    "players_df = pd.merge(players_df, subs_by_player, how='outer', on='player_id', suffixes=('', ''))\n",
    "\n",
    "players_df['substitutions'].fillna(0, inplace=True)\n",
    "players_df['percentage_of_substitutions'] = 100 * players_df['substitutions'] / players_df['num_games']\n",
    "players_df = players_df.drop('substitutions', axis=1)"
   ]
  },
  {
   "cell_type": "code",
   "execution_count": 30,
   "id": "d6e374d0",
   "metadata": {},
   "outputs": [
    {
     "data": {
      "text/html": [
       "<div>\n",
       "<style scoped>\n",
       "    .dataframe tbody tr th:only-of-type {\n",
       "        vertical-align: middle;\n",
       "    }\n",
       "\n",
       "    .dataframe tbody tr th {\n",
       "        vertical-align: top;\n",
       "    }\n",
       "\n",
       "    .dataframe thead th {\n",
       "        text-align: right;\n",
       "    }\n",
       "</style>\n",
       "<table border=\"1\" class=\"dataframe\">\n",
       "  <thead>\n",
       "    <tr style=\"text-align: right;\">\n",
       "      <th></th>\n",
       "      <th>player_id</th>\n",
       "      <th>shootouts</th>\n",
       "    </tr>\n",
       "  </thead>\n",
       "  <tbody>\n",
       "    <tr>\n",
       "      <th>count</th>\n",
       "      <td>5.260000e+03</td>\n",
       "      <td>5260.000000</td>\n",
       "    </tr>\n",
       "    <tr>\n",
       "      <th>mean</th>\n",
       "      <td>3.854204e+05</td>\n",
       "      <td>0.070152</td>\n",
       "    </tr>\n",
       "    <tr>\n",
       "      <th>std</th>\n",
       "      <td>2.274551e+05</td>\n",
       "      <td>0.282975</td>\n",
       "    </tr>\n",
       "    <tr>\n",
       "      <th>min</th>\n",
       "      <td>3.333000e+03</td>\n",
       "      <td>0.000000</td>\n",
       "    </tr>\n",
       "    <tr>\n",
       "      <th>25%</th>\n",
       "      <td>2.041610e+05</td>\n",
       "      <td>0.000000</td>\n",
       "    </tr>\n",
       "    <tr>\n",
       "      <th>50%</th>\n",
       "      <td>3.562965e+05</td>\n",
       "      <td>0.000000</td>\n",
       "    </tr>\n",
       "    <tr>\n",
       "      <th>75%</th>\n",
       "      <td>5.400580e+05</td>\n",
       "      <td>0.000000</td>\n",
       "    </tr>\n",
       "    <tr>\n",
       "      <th>max</th>\n",
       "      <td>1.176345e+06</td>\n",
       "      <td>4.000000</td>\n",
       "    </tr>\n",
       "  </tbody>\n",
       "</table>\n",
       "</div>"
      ],
      "text/plain": [
       "          player_id    shootouts\n",
       "count  5.260000e+03  5260.000000\n",
       "mean   3.854204e+05     0.070152\n",
       "std    2.274551e+05     0.282975\n",
       "min    3.333000e+03     0.000000\n",
       "25%    2.041610e+05     0.000000\n",
       "50%    3.562965e+05     0.000000\n",
       "75%    5.400580e+05     0.000000\n",
       "max    1.176345e+06     4.000000"
      ]
     },
     "execution_count": 30,
     "metadata": {},
     "output_type": "execute_result"
    }
   ],
   "source": [
    "shootouts_by_player = game_events_df.groupby('player_id')['type'].apply(lambda x: (x == 'Shootout').sum()).reset_index(name='shootouts')\n",
    "shootouts_by_player.describe()"
   ]
  },
  {
   "cell_type": "markdown",
   "id": "2665b086",
   "metadata": {},
   "source": [
    "That is too little data if max shootouts by player is 4. Let's just ignore this feature. Calculating average game attendance by player might be a good idea. "
   ]
  },
  {
   "cell_type": "code",
   "execution_count": 31,
   "id": "06738b94",
   "metadata": {},
   "outputs": [],
   "source": [
    "merged_df = pd.merge(appearances_df, games_df, on='game_id')\n",
    "average_attendance_by_player = merged_df.groupby('player_id')['attendance'].mean().reset_index(name='average_attendance')\n",
    "overall_mean_attendance = average_attendance_by_player['average_attendance'].mean()\n",
    "average_attendance_by_player['average_attendance'].fillna(overall_mean_attendance, inplace=True)\n",
    "players_df = pd.merge(players_df, average_attendance_by_player, how='outer', on='player_id', suffixes=('', ''))"
   ]
  },
  {
   "cell_type": "markdown",
   "id": "a17a63e0",
   "metadata": {},
   "source": [
    "Another straightforward feature is percentage of won games."
   ]
  },
  {
   "cell_type": "code",
   "execution_count": 33,
   "id": "64de57f2",
   "metadata": {},
   "outputs": [],
   "source": [
    "club_games_df = dataframes['club_games']"
   ]
  },
  {
   "cell_type": "code",
   "execution_count": 34,
   "id": "ed0c5331",
   "metadata": {},
   "outputs": [],
   "source": [
    "merged_df = pd.merge(appearances_df, club_games_df[['game_id', 'club_id', 'is_win']], \n",
    "                     left_on=['game_id', 'player_club_id'], \n",
    "                     right_on=['game_id', 'club_id'])\n",
    "\n",
    "player_win_percentage = merged_df.groupby('player_id')['is_win'].mean().reset_index(name='win_percentage')\n",
    "player_win_percentage['win_percentage'] *= 100\n",
    "players_df = pd.merge(players_df, player_win_percentage, how='outer', on='player_id', suffixes=('', ''))"
   ]
  },
  {
   "cell_type": "markdown",
   "id": "a7dcf471",
   "metadata": {},
   "source": [
    "And, also, the 'squad_size' and 'national_team_players' features of a player's current club. That should teach the model the club quality parameter"
   ]
  },
  {
   "cell_type": "code",
   "execution_count": 35,
   "id": "d5accce0",
   "metadata": {},
   "outputs": [],
   "source": [
    "merged_df = pd.merge(appearances_df, clubs_df[['club_id', 'squad_size', 'national_team_players']], \n",
    "                     left_on=['player_club_id'], \n",
    "                     right_on=['club_id'])\n",
    "player_squad_size = merged_df.groupby('player_id')['squad_size'].mean().reset_index(name='squad_size')\n",
    "player_national_team_coplayers = merged_df.groupby('player_id')['national_team_players'].mean().reset_index(name='national_team_coplayers')\n",
    "players_df = pd.merge(players_df, player_squad_size, how='outer', on='player_id', suffixes=('', ''))\n",
    "players_df = pd.merge(players_df, player_national_team_coplayers, how='outer', on='player_id', suffixes=('', ''))"
   ]
  },
  {
   "cell_type": "markdown",
   "id": "472fd784",
   "metadata": {},
   "source": [
    "Let's try learning a new model!"
   ]
  },
  {
   "cell_type": "code",
   "execution_count": 36,
   "id": "e325c7a2",
   "metadata": {},
   "outputs": [],
   "source": [
    "categorical = ['current_club_id', 'country_of_citizenship', 'sub_position', \n",
    "               'position', 'foot', 'current_club_domestic_competition_id',\n",
    "              'city_of_birth', 'country_of_birth']\n",
    "\n",
    "numerical = ['height_in_cm', 'age', 'months_to_contract_end', 'yellow_cards', 'red_cards',\n",
    "            'goals', 'assists', 'minutes_played', 'num_games', 'percentage_of_substitutions',\n",
    "            'average_attendance', 'win_percentage', 'national_team_coplayers', 'squad_size'] \n",
    "\n",
    "all_features = categorical + numerical"
   ]
  },
  {
   "cell_type": "markdown",
   "id": "219d427a",
   "metadata": {},
   "source": [
    "After normalizing numerical data"
   ]
  },
  {
   "cell_type": "code",
   "execution_count": 37,
   "id": "2577c8de",
   "metadata": {},
   "outputs": [],
   "source": [
    "scaler = StandardScaler()\n",
    "players_df[numerical] = scaler.fit_transform(players_df[numerical])"
   ]
  },
  {
   "cell_type": "code",
   "execution_count": 38,
   "id": "45ad9c38",
   "metadata": {},
   "outputs": [
    {
     "data": {
      "application/vnd.jupyter.widget-view+json": {
       "model_id": "96a6b0d8e96c458d841b456f3fa76abb",
       "version_major": 2,
       "version_minor": 0
      },
      "text/plain": [
       "MetricVisualizer(layout=Layout(align_self='stretch', height='500px'))"
      ]
     },
     "metadata": {},
     "output_type": "display_data"
    },
    {
     "name": "stdout",
     "output_type": "stream",
     "text": [
      "R2 accuracy score: 0.75 \n",
      "\n",
      "Feature importances: \n",
      "\n",
      "current_club_id : 4.68\n",
      "country_of_citizenship : 1.19\n",
      "sub_position : 0.29\n",
      "position : 0.81\n",
      "foot : 0.68\n",
      "current_club_domestic_competition_id : 0.57\n",
      "city_of_birth : 0.4\n",
      "country_of_birth : 0.47\n",
      "height_in_cm : 7.5\n",
      "age : 10.5\n",
      "months_to_contract_end : 15.31\n",
      "yellow_cards : 2.87\n",
      "red_cards : 0.13\n",
      "goals : 8.75\n",
      "assists : 4.17\n",
      "minutes_played : 7.23\n",
      "num_games : 4.46\n",
      "percentage_of_substitutions : 0.88\n",
      "average_attendance : 11.06\n",
      "win_percentage : 6.53\n",
      "national_team_coplayers : 1.65\n",
      "squad_size : 9.85\n"
     ]
    }
   ],
   "source": [
    "players_df = players_df.dropna()\n",
    "\n",
    "X = players_df.drop(columns=['market_value_in_eur', 'highest_market_value_in_eur', 'player_id'], axis=1)\n",
    "y = players_df['market_value_in_eur']\n",
    "X_train, X_val, y_train, y_val = train_test_split(X, y, test_size=0.2, random_state=12)\n",
    "\n",
    "model = CatBoostRegressor(\n",
    "    iterations=8000,\n",
    "    learning_rate=0.01,\n",
    "    cat_features=categorical, \n",
    "    eval_metric = 'MAE'\n",
    ") \n",
    "\n",
    "model.fit(\n",
    "    X_train, y_train,\n",
    "    cat_features=categorical,\n",
    "    eval_set=(X_val, y_val),\n",
    "    logging_level='Silent',\n",
    "    plot=True\n",
    ")\n",
    "\n",
    "print(f'R2 accuracy score: {round(model.score(X_val, y_val), 2)} \\n')\n",
    "\n",
    "print('Feature importances: \\n')\n",
    "feature_importances = model.get_feature_importance(Pool(X, label=y, cat_features=categorical))\n",
    "for i in range(len(feature_importances)):\n",
    "    print(f'{all_features[i]} : {round(feature_importances[i], 2)}')"
   ]
  },
  {
   "cell_type": "markdown",
   "id": "86c856a0",
   "metadata": {},
   "source": [
    "Unlike 'percentage_of_substitutions', features 'average_attendance' and 'win_percentage' turned out to be valuable. The model still sucks. Let's compare the ditributions of target values and model predictions."
   ]
  },
  {
   "cell_type": "code",
   "execution_count": 39,
   "id": "13256702",
   "metadata": {},
   "outputs": [
    {
     "data": {
      "image/png": "[encoded data removed]",
      "text/plain": [
       "<Figure size 1000x400 with 3 Axes>"
      ]
     },
     "metadata": {},
     "output_type": "display_data"
    }
   ],
   "source": [
    "predictions = model.predict(X)\n",
    "condition = players_df['market_value_in_eur'] <= 2e7\n",
    "cheap_df = players_df[condition]\n",
    "\n",
    "fig, axs = plt.subplots(1, 3, figsize=(10, 4))\n",
    "\n",
    "axs[0].hist(players_df['market_value_in_eur'], bins=50, edgecolor='black')\n",
    "axs[0].set_title('Distribution of Target')\n",
    "axs[0].set_xlabel('Market Value in EUR')\n",
    "axs[0].set_ylabel('Number of Instances')\n",
    "\n",
    "axs[1].hist(cheap_df['market_value_in_eur'], bins=50, edgecolor='black')\n",
    "axs[1].set_title('Distribution of Filtered Target')\n",
    "axs[1].set_xlabel('Market Value in EUR')\n",
    "axs[1].set_ylabel('Number of Instances')\n",
    "\n",
    "axs[2].hist(predictions, bins=50, edgecolor='black')\n",
    "axs[2].set_title('Distribution of Model Predictions')\n",
    "axs[2].set_xlabel('Predicted Value')\n",
    "axs[2].set_ylabel('Number of Instances')\n",
    "\n",
    "plt.tight_layout() \n",
    "plt.show()"
   ]
  },
  {
   "cell_type": "markdown",
   "id": "a32fe6b8",
   "metadata": {},
   "source": [
    "Hmm, let's try predicting the log of the target."
   ]
  },
  {
   "cell_type": "code",
   "execution_count": 40,
   "id": "eb849532",
   "metadata": {},
   "outputs": [],
   "source": [
    "players_df['log_target'] = np.log(players_df['market_value_in_eur'])"
   ]
  },
  {
   "cell_type": "code",
   "execution_count": 44,
   "id": "cf4f83c7",
   "metadata": {},
   "outputs": [
    {
     "data": {
      "application/vnd.jupyter.widget-view+json": {
       "model_id": "aec6457d8c75481b93a8212bfac0cd93",
       "version_major": 2,
       "version_minor": 0
      },
      "text/plain": [
       "MetricVisualizer(layout=Layout(align_self='stretch', height='500px'))"
      ]
     },
     "metadata": {},
     "output_type": "display_data"
    },
    {
     "name": "stdout",
     "output_type": "stream",
     "text": [
      "Feature importances: \n",
      "\n",
      "current_club_id : 8.67\n",
      "country_of_citizenship : 2.18\n",
      "sub_position : 0.77\n",
      "position : 2.01\n",
      "foot : 0.55\n",
      "current_club_domestic_competition_id : 0.92\n",
      "city_of_birth : 0.45\n",
      "country_of_birth : 0.54\n",
      "height_in_cm : 8.35\n",
      "age : 8.72\n",
      "months_to_contract_end : 17.45\n",
      "yellow_cards : 1.42\n",
      "red_cards : 0.07\n",
      "goals : 3.87\n",
      "assists : 2.95\n",
      "minutes_played : 9.46\n",
      "num_games : 8.99\n",
      "percentage_of_substitutions : 1.41\n",
      "average_attendance : 9.36\n",
      "win_percentage : 4.42\n",
      "national_team_coplayers : 1.27\n",
      "squad_size : 6.16\n"
     ]
    }
   ],
   "source": [
    "X = players_df.drop(columns=['log_target', 'market_value_in_eur', 'highest_market_value_in_eur', 'player_id'], axis=1)\n",
    "y = players_df['log_target']\n",
    "\n",
    "X_train, X_val, y_train, y_val = train_test_split(X, y, test_size=0.3, random_state=12)\n",
    "\n",
    "model = CatBoostRegressor(\n",
    "    iterations=1000,\n",
    "    depth=6,\n",
    "    l2_leaf_reg=5,\n",
    "    border_count=128,\n",
    "    random_seed=12,\n",
    "    learning_rate=0.05,\n",
    "    cat_features=categorical,\n",
    "    eval_metric='MAE'\n",
    ")\n",
    "model.fit(\n",
    "    X_train, y_train,\n",
    "    cat_features=categorical,\n",
    "    eval_set=(X_val, y_val),\n",
    "    logging_level='Silent',\n",
    "    plot=True\n",
    ")\n",
    "\n",
    "print('Feature importances: \\n')\n",
    "feature_importances = model.get_feature_importance(Pool(X, label=y, cat_features=categorical))\n",
    "for i in range(len(feature_importances)):\n",
    "    print(f'{all_features[i]} : {round(feature_importances[i], 2)}')"
   ]
  },
  {
   "cell_type": "code",
   "execution_count": 45,
   "id": "2ff6d68e",
   "metadata": {},
   "outputs": [
    {
     "data": {
      "image/png": "[encoded data removed]",
      "text/plain": [
       "<Figure size 1000x400 with 2 Axes>"
      ]
     },
     "metadata": {},
     "output_type": "display_data"
    }
   ],
   "source": [
    "predictions = model.predict(X_val)\n",
    "\n",
    "fig, axs = plt.subplots(1, 2, figsize=(10, 4))\n",
    "\n",
    "axs[0].hist(y_val, bins=50, edgecolor='black')\n",
    "axs[0].set_title('Distribution of Log-Target')\n",
    "axs[0].set_xlabel('Log(Market Value in EUR)')\n",
    "axs[0].set_ylabel('Number of Instances')\n",
    "\n",
    "axs[1].hist(predictions, bins=50, edgecolor='black')\n",
    "axs[1].set_title('Distribution of Model Predictions')\n",
    "axs[1].set_xlabel('Predicted Value')\n",
    "axs[1].set_ylabel('Number of Instances')\n",
    "\n",
    "plt.tight_layout() \n",
    "plt.show()"
   ]
  },
  {
   "cell_type": "markdown",
   "id": "0bc5ce63",
   "metadata": {},
   "source": [
    "The model fits the distrbution of the target quite good but target ditrbution is very unsmooth and that might complicate the learning. What if we convert the log-prediction to actual prices and measure the MAE?"
   ]
  },
  {
   "cell_type": "code",
   "execution_count": 46,
   "id": "bf4af22f",
   "metadata": {},
   "outputs": [
    {
     "name": "stdout",
     "output_type": "stream",
     "text": [
      "Mean Absolute Error: 5254453.560293918\n"
     ]
    }
   ],
   "source": [
    "log_predictions = np.array(model.predict(X_val))  \n",
    "actual_values = np.array(y_val)\n",
    "\n",
    "predictions = np.exp(log_predictions)\n",
    "\n",
    "mae = mean_absolute_error(actual_values, predictions)\n",
    "print(\"Mean Absolute Error:\", mae)"
   ]
  },
  {
   "cell_type": "markdown",
   "id": "cd7d93d2",
   "metadata": {},
   "source": [
    "Awful:)"
   ]
  },
  {
   "cell_type": "markdown",
   "id": "746bde7d",
   "metadata": {},
   "source": [
    "<h2>Switching task to classification</h2>"
   ]
  },
  {
   "cell_type": "markdown",
   "id": "a1bf04f9",
   "metadata": {},
   "source": [
    "Because of the discrete nature of data, it might be a good idea to classify players inot 'price bins' instead of predicting a numerical value. It also makes sense to make these bins on log-scale. Let' label the data into 10 classes."
   ]
  },
  {
   "cell_type": "code",
   "execution_count": 47,
   "id": "409e6221",
   "metadata": {},
   "outputs": [
    {
     "data": {
      "text/plain": [
       "count    5540.000000\n",
       "mean       14.414656\n",
       "std         1.585014\n",
       "min        10.126631\n",
       "25%        13.122363\n",
       "50%        14.285514\n",
       "75%        15.607270\n",
       "max        19.008467\n",
       "Name: log_target, dtype: float64"
      ]
     },
     "execution_count": 47,
     "metadata": {},
     "output_type": "execute_result"
    }
   ],
   "source": [
    "players_df['log_target'].describe()"
   ]
  },
  {
   "cell_type": "code",
   "execution_count": 48,
   "id": "4c057a49",
   "metadata": {},
   "outputs": [],
   "source": [
    "def determine_label(log_value):\n",
    "    return int(log_value - 9) - 1\n",
    "\n",
    "players_df['label'] = players_df['log_target'].apply(determine_label)"
   ]
  },
  {
   "cell_type": "code",
   "execution_count": 49,
   "id": "21795c5b",
   "metadata": {},
   "outputs": [
    {
     "data": {
      "application/vnd.jupyter.widget-view+json": {
       "model_id": "fa87bde2aaa649ad8e5ed82a0a83e6aa",
       "version_major": 2,
       "version_minor": 0
      },
      "text/plain": [
       "MetricVisualizer(layout=Layout(align_self='stretch', height='500px'))"
      ]
     },
     "metadata": {},
     "output_type": "display_data"
    },
    {
     "name": "stdout",
     "output_type": "stream",
     "text": [
      "Feature importances: \n",
      "\n",
      "current_club_id : 16.58\n",
      "country_of_citizenship : 5.63\n",
      "sub_position : 2.36\n",
      "position : 4.5\n",
      "foot : 2.59\n",
      "current_club_domestic_competition_id : 2.99\n",
      "city_of_birth : 2.11\n",
      "country_of_birth : 0.86\n",
      "height_in_cm : 9.29\n",
      "age : 5.93\n",
      "months_to_contract_end : 11.98\n",
      "yellow_cards : 1.16\n",
      "red_cards : 0.2\n",
      "goals : 3.41\n",
      "assists : 1.87\n",
      "minutes_played : 6.89\n",
      "num_games : 4.54\n",
      "percentage_of_substitutions : 1.43\n",
      "average_attendance : 5.67\n",
      "win_percentage : 4.11\n",
      "national_team_coplayers : 1.59\n",
      "squad_size : 4.33\n"
     ]
    }
   ],
   "source": [
    "X = players_df.drop(columns=['market_value_in_eur', 'highest_market_value_in_eur', \n",
    "                             'player_id', 'log_target', 'label'], \n",
    "                            axis=1)\n",
    "y = players_df['label']\n",
    "X_train, X_val, y_train, y_val = train_test_split(X, y, test_size=0.3, random_state=12)\n",
    "\n",
    "model = CatBoostClassifier(\n",
    "    iterations=1000,\n",
    "    depth=6,\n",
    "    l2_leaf_reg=5,\n",
    "    border_count=128,\n",
    "    random_seed=12,\n",
    "    learning_rate=0.05,\n",
    "    cat_features=categorical,\n",
    "    eval_metric='Accuracy'\n",
    ")\n",
    "model.fit(\n",
    "    X_train, y_train,\n",
    "    cat_features=categorical,\n",
    "    eval_set=(X_val, y_val),\n",
    "    logging_level='Silent',\n",
    "    plot=True\n",
    ")\n",
    "\n",
    "print('Feature importances: \\n')\n",
    "feature_importances = model.get_feature_importance(Pool(X, label=y, cat_features=categorical))\n",
    "for i in range(len(feature_importances)):\n",
    "    print(f'{all_features[i]} : {round(feature_importances[i], 2)}')"
   ]
  },
  {
   "cell_type": "code",
   "execution_count": 50,
   "id": "9f3c3a7b",
   "metadata": {},
   "outputs": [
    {
     "data": {
      "image/png": "[encoded data removed]",
      "text/plain": [
       "<Figure size 1000x400 with 2 Axes>"
      ]
     },
     "metadata": {},
     "output_type": "display_data"
    }
   ],
   "source": [
    "predictions = model.predict(X_val)\n",
    "\n",
    "fig, axs = plt.subplots(1, 2, figsize=(10, 4))\n",
    "\n",
    "axs[0].hist(y_val, bins=50, edgecolor='black')\n",
    "axs[0].set_title('Distribution of Target')\n",
    "axs[0].set_xlabel('Player Price Class')\n",
    "axs[0].set_ylabel('Number of Instances')\n",
    "\n",
    "axs[1].hist(predictions, bins=50, edgecolor='black')\n",
    "axs[1].set_title('Distribution of Model Predictions')\n",
    "axs[1].set_xlabel('Predicted Value')\n",
    "axs[1].set_ylabel('Number of Instances')\n",
    "\n",
    "plt.tight_layout() \n",
    "plt.show()"
   ]
  },
  {
   "cell_type": "code",
   "execution_count": 51,
   "id": "72e0b891",
   "metadata": {
    "scrolled": false
   },
   "outputs": [
    {
     "data": {
      "image/png": "[encoded data removed]",
      "text/plain": [
       "<Figure size 1200x500 with 2 Axes>"
      ]
     },
     "metadata": {},
     "output_type": "display_data"
    }
   ],
   "source": [
    "# Define the column transformer\n",
    "column_transformer = ColumnTransformer([\n",
    "    (\"ohe\", OneHotEncoder(handle_unknown='ignore'), categorical)\n",
    "], remainder='passthrough')\n",
    "\n",
    "# Prepare the data\n",
    "X = players_df.drop(columns=['market_value_in_eur', 'highest_market_value_in_eur', \n",
    "                             'player_id', 'log_target', 'label'], axis=1)\n",
    "y = players_df['label']\n",
    "X_train, X_val, y_train, y_val = train_test_split(X, y, test_size=0.3, random_state=12)\n",
    "\n",
    "# Apply the transformations\n",
    "X_train = column_transformer.fit_transform(X_train)\n",
    "X_val = column_transformer.transform(X_val)\n",
    "\n",
    "# Lists to store metrics\n",
    "train_losses = []\n",
    "val_accuracies = []\n",
    "\n",
    "max_depth = 30\n",
    "# Loop over a range of tree depths\n",
    "for depth in range(1, max_depth):  # Example: Trying depths from 1 to 10\n",
    "    model = DecisionTreeClassifier(max_depth=depth, random_state=12)\n",
    "    model.fit(X_train, y_train)\n",
    "\n",
    "    # Compute training loss and validation accuracy\n",
    "    train_loss = log_loss(y_train, model.predict_proba(X_train))\n",
    "    val_accuracy = accuracy_score(y_val, model.predict(X_val))\n",
    "\n",
    "    # Store metrics\n",
    "    train_losses.append(train_loss)\n",
    "    val_accuracies.append(val_accuracy)\n",
    "\n",
    "# Plotting\n",
    "plt.figure(figsize=(12, 5))\n",
    "\n",
    "# Plot training loss\n",
    "plt.subplot(1, 2, 1)\n",
    "plt.plot(range(1, max_depth), train_losses, label='Training Loss')\n",
    "plt.xlabel('Tree Depth')\n",
    "plt.ylabel('Log Loss')\n",
    "plt.title('Training Loss vs Tree Depth')\n",
    "plt.legend()\n",
    "\n",
    "# Plot validation accuracy\n",
    "plt.subplot(1, 2, 2)\n",
    "plt.plot(range(1, max_depth), val_accuracies, label='Validation Accuracy')\n",
    "plt.xlabel('Tree Depth')\n",
    "plt.ylabel('Accuracy')\n",
    "plt.title('Validation Accuracy vs Tree Depth')\n",
    "plt.legend()\n",
    "\n",
    "plt.tight_layout()\n",
    "plt.show()\n"
   ]
  },
  {
   "cell_type": "code",
   "execution_count": 52,
   "id": "eb1ff39c",
   "metadata": {},
   "outputs": [
    {
     "name": "stdout",
     "output_type": "stream",
     "text": [
      "KNN Accuracy: 0.4326113116726835\n",
      "SVM Accuracy: 0.49759326113116725\n"
     ]
    }
   ],
   "source": [
    "knn = KNeighborsClassifier(n_neighbors=25, weights='distance', algorithm='auto', p=1)\n",
    "knn.fit(X_train, y_train)\n",
    "\n",
    "svm = SVC(C=2, gamma=0.01)\n",
    "svm.fit(X_train, y_train)\n",
    "\n",
    "knn_predictions = knn.predict(X_val)\n",
    "knn_accuracy = accuracy_score(y_val, knn_predictions)\n",
    "print(f\"KNN Accuracy: {knn_accuracy}\")\n",
    "\n",
    "# Evaluate SVM\n",
    "svm_predictions = svm.predict(X_val)\n",
    "svm_accuracy = accuracy_score(y_val, svm_predictions)\n",
    "print(f\"SVM Accuracy: {svm_accuracy}\")"
   ]
  },
  {
   "cell_type": "code",
   "execution_count": 53,
   "id": "c3ed1012",
   "metadata": {},
   "outputs": [],
   "source": [
    "player_valuations_df = dataframes['player_valuations']\n",
    "game_lineups_df = dataframes['game_lineups']"
   ]
  },
  {
   "cell_type": "code",
   "execution_count": 54,
   "id": "5d6b24d7",
   "metadata": {},
   "outputs": [],
   "source": [
    "player_valuations_df = player_valuations_df[player_valuations_df['player_id'].isin(players_df['player_id'])]\n",
    "game_lineups_df = game_lineups_df[game_lineups_df['player_id'].isin(players_df['player_id'])]"
   ]
  },
  {
   "cell_type": "markdown",
   "id": "e43dcb18",
   "metadata": {},
   "source": [
    "<h2>Neural Nets</h2>"
   ]
  },
  {
   "cell_type": "code",
   "execution_count": 55,
   "id": "e944ac8b",
   "metadata": {
    "scrolled": true
   },
   "outputs": [],
   "source": [
    "players_df['current_club_id'] = players_df['current_club_id'].astype('object')"
   ]
  },
  {
   "cell_type": "code",
   "execution_count": 56,
   "id": "82801a6b",
   "metadata": {},
   "outputs": [],
   "source": [
    "cols = players_df.columns.tolist()\n",
    "a, b = cols.index('height_in_cm'), cols.index('current_club_domestic_competition_id')\n",
    "cols[b], cols[a] = cols[a], cols[b]\n",
    "players_df = players_df[cols]"
   ]
  },
  {
   "cell_type": "code",
   "execution_count": 57,
   "id": "231d893a",
   "metadata": {},
   "outputs": [
    {
     "data": {
      "text/plain": [
       "count    5540.000000\n",
       "mean        3.897292\n",
       "std         1.622339\n",
       "min         0.000000\n",
       "25%         3.000000\n",
       "50%         4.000000\n",
       "75%         5.000000\n",
       "max         9.000000\n",
       "Name: label, dtype: float64"
      ]
     },
     "execution_count": 57,
     "metadata": {},
     "output_type": "execute_result"
    }
   ],
   "source": [
    "players_df['label'].describe()"
   ]
  },
  {
   "cell_type": "code",
   "execution_count": 58,
   "id": "8c666f97",
   "metadata": {},
   "outputs": [],
   "source": [
    "def process_data(df, to_drop, target):\n",
    "    y = df[target]\n",
    "    dataframe = df.drop(columns=to_drop, axis=1)\n",
    "    categorical_cols = [col for col in dataframe.columns if dataframe[col].dtype not in ['int64', 'float']]\n",
    "    numerical_cols = [col for col in dataframe.columns if dataframe[col].dtype in ['int64', 'float64']]\n",
    "\n",
    "    for category in categorical_cols:\n",
    "        dataframe[category] = dataframe[category].astype('category').cat.codes\n",
    "\n",
    "    categorical_data = torch.tensor(dataframe[categorical_cols].values, dtype=torch.int64)\n",
    "    numerical_data = torch.tensor(dataframe[numerical_cols].values, dtype=torch.float32)\n",
    "    all_data = torch.cat([numerical_data, categorical_data], dim=1)\n",
    "    \n",
    "    X = dataframe\n",
    "    \n",
    "    X_train, X_val, y_train, y_val = train_test_split(X, y, test_size=0.3, random_state=12)\n",
    "    \n",
    "    X_train_num = torch.tensor(X_train[numerical_cols].values, dtype=torch.float32)\n",
    "    X_train_cat = torch.tensor(X_train[categorical_cols].values, dtype=torch.int64)\n",
    "    y_train = torch.tensor(y_train.values, dtype=torch.long)\n",
    "    X = torch.tensor(X.values, dtype=torch.long)\n",
    "\n",
    "    X_val_num = torch.tensor(X_val[numerical_cols].values, dtype=torch.float32)\n",
    "    X_val_cat = torch.tensor(X_val[categorical_cols].values, dtype=torch.int64)\n",
    "    y_val = torch.tensor(y_val.values, dtype=torch.long)\n",
    "    y = torch.tensor(y.values, dtype=torch.long)\n",
    "    \n",
    "    return (X, X_train, X_train_num, X_train_cat, y_train), (y, X_val, X_val_num, X_val_cat, y_val)\n",
    "\n",
    "(X, X_train, X_train_num, X_train_cat, y_train), (y, X_val, X_val_num, X_val_cat, y_val) = process_data(players_df, \n",
    "                            ['market_value_in_eur', 'highest_market_value_in_eur', \n",
    "                             'player_id', 'log_target', 'label'], 'label')"
   ]
  },
  {
   "cell_type": "code",
   "execution_count": 59,
   "id": "8bcd639b",
   "metadata": {},
   "outputs": [],
   "source": [
    "class TabularNet(nn.Module):\n",
    "    def __init__(self, num_numerical_cols, num_categorical_cols, output_size, layers, embedding_sizes):\n",
    "        super(TabularNet, self).__init__()\n",
    "        self.embeddings = nn.ModuleList([nn.Embedding(categories, size) for categories, size in embedding_sizes])\n",
    "        self.embedding_dropout = nn.Dropout(0.8)\n",
    "\n",
    "        total_emb_size = sum([size for categories, size in embedding_sizes])\n",
    "        self.layer_stack = nn.ModuleList()\n",
    "\n",
    "        input_size = total_emb_size + num_numerical_cols\n",
    "        for layer_size in layers:\n",
    "            self.layer_stack.append(nn.Linear(input_size, layer_size))\n",
    "            self.layer_stack.append(nn.ReLU())\n",
    "            self.layer_stack.append(nn.BatchNorm1d(layer_size))\n",
    "            self.layer_stack.append(nn.Dropout(0.7))\n",
    "            input_size = layer_size\n",
    "\n",
    "        self.output_layer = nn.Linear(layers[-1], output_size)\n",
    "\n",
    "    def forward(self, x_numerical, x_categorical):\n",
    "        embeddings = []\n",
    "        for i, e in enumerate(self.embeddings):\n",
    "            embeddings.append(e(x_categorical[:, i]))\n",
    "        x = torch.cat(embeddings, 1)\n",
    "        x = self.embedding_dropout(x)\n",
    "\n",
    "        x = torch.cat([x, x_numerical], 1)\n",
    "\n",
    "        for layer in self.layer_stack:\n",
    "            x = layer(x)\n",
    "\n",
    "        x = self.output_layer(x)\n",
    "        return x"
   ]
  },
  {
   "cell_type": "code",
   "execution_count": 60,
   "id": "92e8ad1b",
   "metadata": {},
   "outputs": [],
   "source": [
    "def calculate_accuracy(model, data_loader):\n",
    "    model.eval()  \n",
    "    correct = 0\n",
    "    total = 0\n",
    "\n",
    "    with torch.no_grad():  \n",
    "        for (batch_X_num, batch_X_cat, batch_y) in data_loader:\n",
    "            outputs = net(batch_X_num, batch_X_cat)\n",
    "            _, predicted = torch.max(outputs.data, 1)\n",
    "            total += batch_y.size(0)\n",
    "            correct += (predicted == batch_y).sum().item()\n",
    "\n",
    "    accuracy = 100 * correct / total\n",
    "    return accuracy"
   ]
  },
  {
   "cell_type": "code",
   "execution_count": 61,
   "id": "6f107f4e",
   "metadata": {},
   "outputs": [],
   "source": [
    "class TabularDataset(torch.utils.data.Dataset):\n",
    "    def __init__(self, X_numerical, X_categorical, y):\n",
    "        self.X_numerical = X_numerical\n",
    "        self.X_categorical = X_categorical\n",
    "        self.y = y\n",
    "\n",
    "    def __len__(self):\n",
    "        return len(self.y)\n",
    "\n",
    "    def __getitem__(self, idx):\n",
    "        return self.X_numerical[idx], self.X_categorical[idx], self.y[idx]"
   ]
  },
  {
   "cell_type": "code",
   "execution_count": 62,
   "id": "ac01d52d",
   "metadata": {
    "scrolled": true
   },
   "outputs": [
    {
     "name": "stdout",
     "output_type": "stream",
     "text": [
      "[1,   100] loss: 2.414\n",
      "Validation Accuracy: 29.90%\n",
      "[2,   100] loss: 1.741\n",
      "Validation Accuracy: 35.50%\n",
      "[3,   100] loss: 1.508\n",
      "Validation Accuracy: 39.35%\n",
      "[4,   100] loss: 1.363\n",
      "Validation Accuracy: 40.79%\n",
      "[5,   100] loss: 1.276\n",
      "Validation Accuracy: 42.72%\n",
      "[6,   100] loss: 1.215\n",
      "Validation Accuracy: 44.10%\n",
      "[7,   100] loss: 1.159\n",
      "Validation Accuracy: 44.16%\n",
      "[8,   100] loss: 1.107\n",
      "Validation Accuracy: 45.31%\n",
      "[9,   100] loss: 1.029\n",
      "Validation Accuracy: 45.73%\n",
      "[10,   100] loss: 0.951\n",
      "Validation Accuracy: 45.37%\n",
      "Finished Training\n"
     ]
    }
   ],
   "source": [
    "num_categorical_cols = len(categorical)\n",
    "num_numerical_cols = len(numerical)\n",
    "\n",
    "max_indices = [X[:, i].max().item() for i in range(len(categorical))]\n",
    "embedding_sizes = [(max_indices[i] + 1, min(50, (max_indices[i] + 1) // 2)) for i in range(len(categorical))]\n",
    "\n",
    "net = TabularNet(num_numerical_cols=num_numerical_cols,\n",
    "                     num_categorical_cols=num_categorical_cols,\n",
    "                     output_size=10,  \n",
    "                     layers=[200, 100],\n",
    "                     embedding_sizes=embedding_sizes)\n",
    "\n",
    "learning_rate = 0.01  \n",
    "optimizer = torch.optim.Adagrad(net.parameters(), lr=learning_rate)\n",
    "criterion = nn.CrossEntropyLoss()  \n",
    "\n",
    "train_dataset = TabularDataset(X_train_num, X_train_cat, y_train)\n",
    "val_dataset = TabularDataset(X_val_num, X_val_cat, y_val)\n",
    "\n",
    "train_loader = DataLoader(train_dataset, batch_size=20, shuffle=True)\n",
    "val_loader = DataLoader(val_dataset, batch_size=20, shuffle=False)\n",
    "\n",
    "num_epochs = 10\n",
    "for epoch in range(num_epochs):\n",
    "    running_loss = 0.0\n",
    "    for i, (batch_X_num, batch_X_cat, batch_y) in enumerate(train_loader):\n",
    "        outputs = net(batch_X_num, batch_X_cat)\n",
    "        loss = criterion(outputs, batch_y)\n",
    "\n",
    "        optimizer.zero_grad()\n",
    "        loss.backward()\n",
    "        optimizer.step()\n",
    "\n",
    "        running_loss += loss.item()\n",
    "        if i % 100 == 99:\n",
    "            print(f'[{epoch + 1}, {i + 1:5d}] loss: {running_loss / 100:.3f}')\n",
    "            running_loss = 0.0\n",
    "\n",
    "    val_accuracy = calculate_accuracy(net, val_loader)\n",
    "    print(f'Validation Accuracy: {val_accuracy:.2f}%')\n",
    "\n",
    "print('Finished Training')"
   ]
  },
  {
   "cell_type": "markdown",
   "id": "7d82656a",
   "metadata": {},
   "source": [
    "<h3>DOES NOT WORK EITHER</h3>"
   ]
  },
  {
   "cell_type": "markdown",
   "id": "8b0c374f",
   "metadata": {},
   "source": [
    "SOLUTION: USE THE player_valuations DATATFRAME TO GENERATE MORE DATA!!!"
   ]
  },
  {
   "cell_type": "markdown",
   "id": "95b4039a",
   "metadata": {},
   "source": [
    "The idea is to calaculate all of the previously used features for each instance of player_valueations table. Then train on all of the valuations except the last one and try predicting the last one. Let's see if the amount of data allows for that.  "
   ]
  },
  {
   "cell_type": "code",
   "execution_count": 175,
   "id": "aaa4c726",
   "metadata": {},
   "outputs": [
    {
     "name": "stdout",
     "output_type": "stream",
     "text": [
      "0.9958483754512636\n"
     ]
    },
    {
     "name": "stderr",
     "output_type": "stream",
     "text": [
      "/var/folders/y5/wrdrrgbd2zvfbnq8j5r4mrqm0000gn/T/ipykernel_98674/2083476447.py:1: SettingWithCopyWarning: \n",
      "A value is trying to be set on a copy of a slice from a DataFrame.\n",
      "Try using .loc[row_indexer,col_indexer] = value instead\n",
      "\n",
      "See the caveats in the documentation: https://pandas.pydata.org/pandas-docs/stable/user_guide/indexing.html#returning-a-view-versus-a-copy\n",
      "  player_valuations_df['one'] = 1\n"
     ]
    }
   ],
   "source": [
    "player_valuations_df['one'] = 1\n",
    "by_player = player_valuations_df.groupby('player_id').agg(NumValuations=('one', 'sum'))\n",
    "condition = by_player['NumValuations'] > 1\n",
    "print(len(by_player[condition])/len(by_player))"
   ]
  },
  {
   "cell_type": "markdown",
   "id": "81980bef",
   "metadata": {},
   "source": [
    "Ok, good news. Almost every player is present at least twice. Now, a reasonable approach is to use the latest_evaluations as a test dataset and all the other evlauations as train + val. "
   ]
  },
  {
   "cell_type": "code",
   "execution_count": 176,
   "id": "92575b93",
   "metadata": {},
   "outputs": [],
   "source": [
    "max_dates = player_valuations_df.groupby('player_id')['date'].transform(max)\n",
    "latest_evaluations = player_valuations_df[player_valuations_df['date'] == max_dates]"
   ]
  },
  {
   "cell_type": "code",
   "execution_count": 177,
   "id": "4f7ead2a",
   "metadata": {},
   "outputs": [
    {
     "data": {
      "text/html": [
       "<div>\n",
       "<style scoped>\n",
       "    .dataframe tbody tr th:only-of-type {\n",
       "        vertical-align: middle;\n",
       "    }\n",
       "\n",
       "    .dataframe tbody tr th {\n",
       "        vertical-align: top;\n",
       "    }\n",
       "\n",
       "    .dataframe thead th {\n",
       "        text-align: right;\n",
       "    }\n",
       "</style>\n",
       "<table border=\"1\" class=\"dataframe\">\n",
       "  <thead>\n",
       "    <tr style=\"text-align: right;\">\n",
       "      <th></th>\n",
       "      <th>player_id</th>\n",
       "      <th>date</th>\n",
       "      <th>market_value_in_eur</th>\n",
       "      <th>current_club_id</th>\n",
       "      <th>player_club_domestic_competition_id</th>\n",
       "      <th>one</th>\n",
       "    </tr>\n",
       "  </thead>\n",
       "  <tbody>\n",
       "    <tr>\n",
       "      <th>394003</th>\n",
       "      <td>624883</td>\n",
       "      <td>2022-05-18</td>\n",
       "      <td>100000</td>\n",
       "      <td>2740</td>\n",
       "      <td>UKR1</td>\n",
       "      <td>1</td>\n",
       "    </tr>\n",
       "    <tr>\n",
       "      <th>406583</th>\n",
       "      <td>138285</td>\n",
       "      <td>2022-06-27</td>\n",
       "      <td>150000</td>\n",
       "      <td>979</td>\n",
       "      <td>PO1</td>\n",
       "      <td>1</td>\n",
       "    </tr>\n",
       "    <tr>\n",
       "      <th>434225</th>\n",
       "      <td>511552</td>\n",
       "      <td>2023-04-05</td>\n",
       "      <td>600000</td>\n",
       "      <td>511</td>\n",
       "      <td>SC1</td>\n",
       "      <td>1</td>\n",
       "    </tr>\n",
       "    <tr>\n",
       "      <th>434563</th>\n",
       "      <td>655139</td>\n",
       "      <td>2023-04-06</td>\n",
       "      <td>150000</td>\n",
       "      <td>903</td>\n",
       "      <td>SC1</td>\n",
       "      <td>1</td>\n",
       "    </tr>\n",
       "    <tr>\n",
       "      <th>436358</th>\n",
       "      <td>237641</td>\n",
       "      <td>2023-05-31</td>\n",
       "      <td>1000000</td>\n",
       "      <td>3385</td>\n",
       "      <td>GR1</td>\n",
       "      <td>1</td>\n",
       "    </tr>\n",
       "    <tr>\n",
       "      <th>...</th>\n",
       "      <td>...</td>\n",
       "      <td>...</td>\n",
       "      <td>...</td>\n",
       "      <td>...</td>\n",
       "      <td>...</td>\n",
       "      <td>...</td>\n",
       "    </tr>\n",
       "    <tr>\n",
       "      <th>465316</th>\n",
       "      <td>1201294</td>\n",
       "      <td>2024-02-12</td>\n",
       "      <td>50000</td>\n",
       "      <td>3840</td>\n",
       "      <td>TR1</td>\n",
       "      <td>1</td>\n",
       "    </tr>\n",
       "    <tr>\n",
       "      <th>465317</th>\n",
       "      <td>551505</td>\n",
       "      <td>2024-02-21</td>\n",
       "      <td>7000000</td>\n",
       "      <td>969</td>\n",
       "      <td>FR1</td>\n",
       "      <td>1</td>\n",
       "    </tr>\n",
       "    <tr>\n",
       "      <th>465318</th>\n",
       "      <td>754037</td>\n",
       "      <td>2024-02-21</td>\n",
       "      <td>5000000</td>\n",
       "      <td>2410</td>\n",
       "      <td>RU1</td>\n",
       "      <td>1</td>\n",
       "    </tr>\n",
       "    <tr>\n",
       "      <th>465319</th>\n",
       "      <td>763079</td>\n",
       "      <td>2024-02-21</td>\n",
       "      <td>2000000</td>\n",
       "      <td>826</td>\n",
       "      <td>FR1</td>\n",
       "      <td>1</td>\n",
       "    </tr>\n",
       "    <tr>\n",
       "      <th>465320</th>\n",
       "      <td>214070</td>\n",
       "      <td>2024-02-22</td>\n",
       "      <td>550000</td>\n",
       "      <td>7378</td>\n",
       "      <td>PO1</td>\n",
       "      <td>1</td>\n",
       "    </tr>\n",
       "  </tbody>\n",
       "</table>\n",
       "<p>5540 rows × 6 columns</p>\n",
       "</div>"
      ],
      "text/plain": [
       "        player_id        date  market_value_in_eur  current_club_id  \\\n",
       "394003     624883  2022-05-18               100000             2740   \n",
       "406583     138285  2022-06-27               150000              979   \n",
       "434225     511552  2023-04-05               600000              511   \n",
       "434563     655139  2023-04-06               150000              903   \n",
       "436358     237641  2023-05-31              1000000             3385   \n",
       "...           ...         ...                  ...              ...   \n",
       "465316    1201294  2024-02-12                50000             3840   \n",
       "465317     551505  2024-02-21              7000000              969   \n",
       "465318     754037  2024-02-21              5000000             2410   \n",
       "465319     763079  2024-02-21              2000000              826   \n",
       "465320     214070  2024-02-22               550000             7378   \n",
       "\n",
       "       player_club_domestic_competition_id  one  \n",
       "394003                                UKR1    1  \n",
       "406583                                 PO1    1  \n",
       "434225                                 SC1    1  \n",
       "434563                                 SC1    1  \n",
       "436358                                 GR1    1  \n",
       "...                                    ...  ...  \n",
       "465316                                 TR1    1  \n",
       "465317                                 FR1    1  \n",
       "465318                                 RU1    1  \n",
       "465319                                 FR1    1  \n",
       "465320                                 PO1    1  \n",
       "\n",
       "[5540 rows x 6 columns]"
      ]
     },
     "execution_count": 177,
     "metadata": {},
     "output_type": "execute_result"
    }
   ],
   "source": [
    "latest_evaluations"
   ]
  },
  {
   "cell_type": "markdown",
   "id": "f281552b",
   "metadata": {},
   "source": [
    "This is exactly the initial players_df dataframe. Ok. Now, we need to collect the features for the player_valuations dataframe. First, let's gather static features that are constant through time. These are: ['country_of_birth', 'city_of_birth', 'country_of_citizenship', 'sub_position', 'position', 'foot', 'height_in_cm']"
   ]
  },
  {
   "cell_type": "code",
   "execution_count": 178,
   "id": "b4e3a0f4",
   "metadata": {},
   "outputs": [],
   "source": [
    "static_features = players_df[['player_id', 'country_of_birth', 'city_of_birth', 'country_of_citizenship', \n",
    "                              'sub_position', 'position', 'foot', 'height_in_cm']]\n",
    "df = player_valuations_df.merge(static_features, on='player_id')"
   ]
  },
  {
   "cell_type": "markdown",
   "id": "b7945399",
   "metadata": {},
   "source": [
    "Now, we need to collect the following features for each valuation instance: [\n",
    "       'months_to_contract_end', 'age', 'yellow_cards', 'red_cards', 'goals',\n",
    "       'assists', 'minutes_played', 'num_games', 'percentage_of_substitutions',\n",
    "       'average_attendance', 'win_percentage', 'squad_size',\n",
    "       'national_team_coplayers']. Each of these features is measured for the player with given id and until the evaluation date"
   ]
  },
  {
   "cell_type": "markdown",
   "id": "3dea15c9",
   "metadata": {},
   "source": [
    "age:"
   ]
  },
  {
   "cell_type": "code",
   "execution_count": 179,
   "id": "2c805de1",
   "metadata": {},
   "outputs": [],
   "source": [
    "merged = pd.merge(df, dataframes['players'], left_on='player_id', right_on='player_id', how='left')\n",
    "df['date_of_birth'] = pd.to_datetime(merged['date_of_birth'])\n",
    "df['val_date'] = pd.to_datetime(df['date'])\n",
    "df = df.drop('date', axis=1)\n",
    "now = datetime.now()\n",
    "df['age'] = (df['val_date'] - df['date_of_birth']).apply(lambda x: x.days) / 365.25\n",
    "df['age'] = df['age'].round() \n",
    "df = df.drop('date_of_birth', axis=1)"
   ]
  },
  {
   "cell_type": "markdown",
   "id": "d9989bf5",
   "metadata": {},
   "source": [
    "yellow_cards, red_cards, goals, assists, minutes_played, num_games, number_of_substitutions, average_attendance, win_percentage, squad_size, national_team_coplayers:"
   ]
  },
  {
   "cell_type": "code",
   "execution_count": null,
   "id": "9f3d4d39",
   "metadata": {},
   "outputs": [],
   "source": [
    "appearances_df['app_date'] = pd.to_datetime(appearances_df['date'])\n",
    "appearances_df = appearances_df.drop('date', axis=1)"
   ]
  },
  {
   "cell_type": "code",
   "execution_count": null,
   "id": "948e60c3",
   "metadata": {},
   "outputs": [],
   "source": [
    "game_events_df['date'] = pd.to_datetime(game_events_df['date'])"
   ]
  },
  {
   "cell_type": "code",
   "execution_count": 71,
   "id": "8fb917f3",
   "metadata": {},
   "outputs": [],
   "source": [
    "min_dates = appearances_df.groupby('player_id')['app_date'].min()\n",
    "earliest_appearance = appearances_df[appearances_df['app_date'].isin(min_dates)]\n",
    "\n",
    "app_games_merged = pd.merge(appearances_df, games_df, on='game_id')\n",
    "\n",
    "app_club_games_merged = pd.merge(appearances_df, club_games_df[['game_id', 'club_id', 'is_win']], \n",
    "                     left_on=['game_id', 'player_club_id'], \n",
    "                     right_on=['game_id', 'club_id'])\n",
    "\n",
    "val_clubs_merged = pd.merge(df, clubs_df[['club_id', 'squad_size', 'national_team_players']], \n",
    "                     left_on=['current_club_id'], \n",
    "                     right_on=['club_id'])\n",
    "\n",
    "results = []\n",
    "\n",
    "for idx, row in df.iterrows():\n",
    "    player_id = row['player_id']\n",
    "    valuation_date = row['val_date']\n",
    "\n",
    "    earliest_dates = earliest_appearance[earliest_appearance['player_id'] == player_id]['app_date']\n",
    "    \n",
    "    if not earliest_dates.empty and valuation_date >= earliest_dates.iloc[0]:\n",
    "        \n",
    "        filtered_app_games = app_games_merged[(app_games_merged['player_id'] == player_id) & \n",
    "                                              (app_games_merged['app_date'] <= valuation_date)]\n",
    "        \n",
    "        filtered_app_club_games = app_club_games_merged[(app_club_games_merged['player_id'] == player_id) & \n",
    "                                              (app_club_games_merged['app_date'] <= valuation_date)]\n",
    "        \n",
    "        filtered_game_events = game_events_df[(game_events_df['player_id'] == player_id) & \n",
    "                                              (game_events_df['date'] <= valuation_date)]\n",
    "        \n",
    "        filtered_clubs = val_clubs_merged[(val_clubs_merged['player_id'] == player_id) & \n",
    "                                              (val_clubs_merged['val_date'] <= valuation_date)]\n",
    "        \n",
    "        \n",
    "        \n",
    "        app_stats = filtered_app_games[['yellow_cards', 'red_cards', 'goals', 'assists', 'minutes_played', 'num_games']].sum()\n",
    "\n",
    "        num_subs = filtered_game_events[filtered_game_events['type'] == 'Substitutions'].shape[0]\n",
    "        \n",
    "        avg_attendance = filtered_app_games['attendance'].mean() if not filtered_app_games.empty else 0\n",
    "        \n",
    "        player_win_percentage = 100 * filtered_app_club_games['is_win'].mean()\n",
    "        \n",
    "        player_squad_size = filtered_clubs['squad_size'].mean()\n",
    "        \n",
    "        player_national_team_coplayers = filtered_clubs['national_team_players'].mean()\n",
    "        \n",
    "        results.append({'player_id': player_id, \n",
    "                        'val_date': valuation_date, \n",
    "                        'number_of_substitutions': num_subs, \n",
    "                        'average_attendance': avg_attendance,\n",
    "                        'player_win_percentage': player_win_percentage,\n",
    "                        'player_squad_size': player_squad_size,\n",
    "                        'player_national_team_coplayers': player_national_team_coplayers,\n",
    "                        **app_stats})\n",
    "    \n",
    "result_df = pd.DataFrame(results)"
   ]
  },
  {
   "cell_type": "code",
   "execution_count": 180,
   "id": "11f63fc2",
   "metadata": {},
   "outputs": [],
   "source": [
    "df = pd.merge(df, result_df, on=['player_id', 'val_date'], how='right')"
   ]
  },
  {
   "cell_type": "code",
   "execution_count": 181,
   "id": "04ced03a",
   "metadata": {},
   "outputs": [],
   "source": [
    "df['percentage_of_substitutions'] = 100 * df['number_of_substitutions'] / df['num_games']\n",
    "df = df.drop('number_of_substitutions', axis=1)"
   ]
  },
  {
   "cell_type": "markdown",
   "id": "88ee2d31",
   "metadata": {},
   "source": [
    "months_to_contract_end:\n",
    "<br>\n",
    "Unfortunately, there is not enough data to correctly calculate this feature. We will just set it to the current value."
   ]
  },
  {
   "cell_type": "code",
   "execution_count": 182,
   "id": "905b2db2",
   "metadata": {},
   "outputs": [],
   "source": [
    "merged = pd.merge(df, players_df, left_on='player_id', right_on='player_id', how='left')\n",
    "df['months_to_contract_end'] = merged['months_to_contract_end']"
   ]
  },
  {
   "cell_type": "markdown",
   "id": "6c0b34e8",
   "metadata": {},
   "source": [
    "Let's normalize the data and try learning a model"
   ]
  },
  {
   "cell_type": "code",
   "execution_count": 183,
   "id": "bd8360dd",
   "metadata": {},
   "outputs": [],
   "source": [
    "condition = df['market_value_in_eur'] <= 50e6\n",
    "df = df[condition]"
   ]
  },
  {
   "cell_type": "code",
   "execution_count": 184,
   "id": "28789370",
   "metadata": {},
   "outputs": [],
   "source": [
    "global_mean = df['market_value_in_eur'].mean()"
   ]
  },
  {
   "cell_type": "code",
   "execution_count": 185,
   "id": "017cbe26",
   "metadata": {},
   "outputs": [],
   "source": [
    "categorical = ['current_club_id', 'country_of_citizenship', 'sub_position', \n",
    "               'position', 'foot', 'player_club_domestic_competition_id',\n",
    "              'city_of_birth', 'country_of_birth']\n",
    "\n",
    "numerical = ['height_in_cm', 'age', 'months_to_contract_end', 'yellow_cards', 'red_cards', 'one',\n",
    "            'goals', 'assists', 'minutes_played', 'num_games', 'percentage_of_substitutions',\n",
    "            'average_attendance', 'player_win_percentage', 'player_national_team_coplayers', 'player_squad_size']\n",
    "\n",
    "target = ['market_value_in_eur']\n",
    "\n",
    "all_features = categorical + numerical"
   ]
  },
  {
   "cell_type": "code",
   "execution_count": 186,
   "id": "2f5abcb9",
   "metadata": {},
   "outputs": [],
   "source": [
    "scaler = StandardScaler()\n",
    "df[numerical] = scaler.fit_transform(df[numerical])"
   ]
  },
  {
   "cell_type": "code",
   "execution_count": 187,
   "id": "7d1ef0e5",
   "metadata": {},
   "outputs": [
    {
     "data": {
      "text/html": [
       "<div>\n",
       "<style scoped>\n",
       "    .dataframe tbody tr th:only-of-type {\n",
       "        vertical-align: middle;\n",
       "    }\n",
       "\n",
       "    .dataframe tbody tr th {\n",
       "        vertical-align: top;\n",
       "    }\n",
       "\n",
       "    .dataframe thead th {\n",
       "        text-align: right;\n",
       "    }\n",
       "</style>\n",
       "<table border=\"1\" class=\"dataframe\">\n",
       "  <thead>\n",
       "    <tr style=\"text-align: right;\">\n",
       "      <th></th>\n",
       "      <th>player_id</th>\n",
       "      <th>market_value_in_eur</th>\n",
       "      <th>current_club_id</th>\n",
       "      <th>player_club_domestic_competition_id</th>\n",
       "      <th>one</th>\n",
       "      <th>country_of_birth</th>\n",
       "      <th>city_of_birth</th>\n",
       "      <th>country_of_citizenship</th>\n",
       "      <th>sub_position</th>\n",
       "      <th>position</th>\n",
       "      <th>...</th>\n",
       "      <th>player_squad_size</th>\n",
       "      <th>player_national_team_coplayers</th>\n",
       "      <th>yellow_cards</th>\n",
       "      <th>red_cards</th>\n",
       "      <th>goals</th>\n",
       "      <th>assists</th>\n",
       "      <th>minutes_played</th>\n",
       "      <th>num_games</th>\n",
       "      <th>percentage_of_substitutions</th>\n",
       "      <th>months_to_contract_end</th>\n",
       "    </tr>\n",
       "  </thead>\n",
       "  <tbody>\n",
       "    <tr>\n",
       "      <th>36015</th>\n",
       "      <td>203516</td>\n",
       "      <td>300000</td>\n",
       "      <td>472</td>\n",
       "      <td>ES1</td>\n",
       "      <td>0.0</td>\n",
       "      <td>France</td>\n",
       "      <td>Poissy</td>\n",
       "      <td>DR Congo</td>\n",
       "      <td>Defensive Midfield</td>\n",
       "      <td>Midfield</td>\n",
       "      <td>...</td>\n",
       "      <td>-0.224506</td>\n",
       "      <td>-0.979649</td>\n",
       "      <td>-0.552532</td>\n",
       "      <td>-0.458571</td>\n",
       "      <td>-0.498375</td>\n",
       "      <td>-0.503806</td>\n",
       "      <td>-0.855875</td>\n",
       "      <td>-0.775525</td>\n",
       "      <td>-0.480297</td>\n",
       "      <td>-0.208501</td>\n",
       "    </tr>\n",
       "    <tr>\n",
       "      <th>20069</th>\n",
       "      <td>166086</td>\n",
       "      <td>2000000</td>\n",
       "      <td>2696</td>\n",
       "      <td>RU1</td>\n",
       "      <td>0.0</td>\n",
       "      <td>Germany</td>\n",
       "      <td>Sindelfingen</td>\n",
       "      <td>Bosnia-Herzegovina</td>\n",
       "      <td>Attacking Midfield</td>\n",
       "      <td>Midfield</td>\n",
       "      <td>...</td>\n",
       "      <td>1.566055</td>\n",
       "      <td>-0.394166</td>\n",
       "      <td>0.710280</td>\n",
       "      <td>1.057029</td>\n",
       "      <td>0.095820</td>\n",
       "      <td>0.199888</td>\n",
       "      <td>-0.163629</td>\n",
       "      <td>0.213296</td>\n",
       "      <td>1.007729</td>\n",
       "      <td>-0.208501</td>\n",
       "    </tr>\n",
       "    <tr>\n",
       "      <th>41760</th>\n",
       "      <td>229804</td>\n",
       "      <td>15000000</td>\n",
       "      <td>681</td>\n",
       "      <td>ES1</td>\n",
       "      <td>0.0</td>\n",
       "      <td>Spain</td>\n",
       "      <td>Beasain</td>\n",
       "      <td>Spain</td>\n",
       "      <td>Centre-Back</td>\n",
       "      <td>Defender</td>\n",
       "      <td>...</td>\n",
       "      <td>0.133606</td>\n",
       "      <td>0.776801</td>\n",
       "      <td>1.042598</td>\n",
       "      <td>1.057029</td>\n",
       "      <td>-0.174269</td>\n",
       "      <td>-0.269242</td>\n",
       "      <td>0.847037</td>\n",
       "      <td>0.754793</td>\n",
       "      <td>-0.182692</td>\n",
       "      <td>0.572107</td>\n",
       "    </tr>\n",
       "    <tr>\n",
       "      <th>62223</th>\n",
       "      <td>465326</td>\n",
       "      <td>250000</td>\n",
       "      <td>235</td>\n",
       "      <td>NL1</td>\n",
       "      <td>0.0</td>\n",
       "      <td>Netherlands</td>\n",
       "      <td>Heerhugowaard</td>\n",
       "      <td>Netherlands</td>\n",
       "      <td>Centre-Forward</td>\n",
       "      <td>Attack</td>\n",
       "      <td>...</td>\n",
       "      <td>-0.224506</td>\n",
       "      <td>-0.979649</td>\n",
       "      <td>-0.818387</td>\n",
       "      <td>-0.458571</td>\n",
       "      <td>-0.498375</td>\n",
       "      <td>-0.581995</td>\n",
       "      <td>-0.931523</td>\n",
       "      <td>-0.952100</td>\n",
       "      <td>-0.852303</td>\n",
       "      <td>-0.208501</td>\n",
       "    </tr>\n",
       "    <tr>\n",
       "      <th>54216</th>\n",
       "      <td>442703</td>\n",
       "      <td>3800000</td>\n",
       "      <td>1005</td>\n",
       "      <td>IT1</td>\n",
       "      <td>0.0</td>\n",
       "      <td>Germany</td>\n",
       "      <td>Starnberg</td>\n",
       "      <td>Albania</td>\n",
       "      <td>Defensive Midfield</td>\n",
       "      <td>Midfield</td>\n",
       "      <td>...</td>\n",
       "      <td>0.133606</td>\n",
       "      <td>-0.199004</td>\n",
       "      <td>0.444425</td>\n",
       "      <td>-0.458571</td>\n",
       "      <td>-0.336322</td>\n",
       "      <td>-0.112865</td>\n",
       "      <td>0.276558</td>\n",
       "      <td>0.119123</td>\n",
       "      <td>-0.154791</td>\n",
       "      <td>0.572107</td>\n",
       "    </tr>\n",
       "  </tbody>\n",
       "</table>\n",
       "<p>5 rows × 26 columns</p>\n",
       "</div>"
      ],
      "text/plain": [
       "       player_id  market_value_in_eur  current_club_id  \\\n",
       "36015     203516               300000              472   \n",
       "20069     166086              2000000             2696   \n",
       "41760     229804             15000000              681   \n",
       "62223     465326               250000              235   \n",
       "54216     442703              3800000             1005   \n",
       "\n",
       "      player_club_domestic_competition_id  one country_of_birth  \\\n",
       "36015                                 ES1  0.0           France   \n",
       "20069                                 RU1  0.0          Germany   \n",
       "41760                                 ES1  0.0            Spain   \n",
       "62223                                 NL1  0.0      Netherlands   \n",
       "54216                                 IT1  0.0          Germany   \n",
       "\n",
       "       city_of_birth country_of_citizenship        sub_position  position  \\\n",
       "36015         Poissy               DR Congo  Defensive Midfield  Midfield   \n",
       "20069   Sindelfingen     Bosnia-Herzegovina  Attacking Midfield  Midfield   \n",
       "41760        Beasain                  Spain         Centre-Back  Defender   \n",
       "62223  Heerhugowaard            Netherlands      Centre-Forward    Attack   \n",
       "54216      Starnberg                Albania  Defensive Midfield  Midfield   \n",
       "\n",
       "       ... player_squad_size  player_national_team_coplayers yellow_cards  \\\n",
       "36015  ...         -0.224506                       -0.979649    -0.552532   \n",
       "20069  ...          1.566055                       -0.394166     0.710280   \n",
       "41760  ...          0.133606                        0.776801     1.042598   \n",
       "62223  ...         -0.224506                       -0.979649    -0.818387   \n",
       "54216  ...          0.133606                       -0.199004     0.444425   \n",
       "\n",
       "       red_cards     goals   assists  minutes_played  num_games  \\\n",
       "36015  -0.458571 -0.498375 -0.503806       -0.855875  -0.775525   \n",
       "20069   1.057029  0.095820  0.199888       -0.163629   0.213296   \n",
       "41760   1.057029 -0.174269 -0.269242        0.847037   0.754793   \n",
       "62223  -0.458571 -0.498375 -0.581995       -0.931523  -0.952100   \n",
       "54216  -0.458571 -0.336322 -0.112865        0.276558   0.119123   \n",
       "\n",
       "       percentage_of_substitutions  months_to_contract_end  \n",
       "36015                    -0.480297               -0.208501  \n",
       "20069                     1.007729               -0.208501  \n",
       "41760                    -0.182692                0.572107  \n",
       "62223                    -0.852303               -0.208501  \n",
       "54216                    -0.154791                0.572107  \n",
       "\n",
       "[5 rows x 26 columns]"
      ]
     },
     "execution_count": 187,
     "metadata": {},
     "output_type": "execute_result"
    }
   ],
   "source": [
    "df.sample(5)"
   ]
  },
  {
   "cell_type": "markdown",
   "id": "b80f3bcc",
   "metadata": {},
   "source": [
    "Let's separate the latest predictions as a validation set"
   ]
  },
  {
   "cell_type": "code",
   "execution_count": 188,
   "id": "c508b29b",
   "metadata": {},
   "outputs": [
    {
     "data": {
      "application/vnd.jupyter.widget-view+json": {
       "model_id": "64dcc5013ac348a5a79f7d694a76537c",
       "version_major": 2,
       "version_minor": 0
      },
      "text/plain": [
       "MetricVisualizer(layout=Layout(align_self='stretch', height='500px'))"
      ]
     },
     "metadata": {},
     "output_type": "display_data"
    },
    {
     "name": "stdout",
     "output_type": "stream",
     "text": [
      "R2 accuracy score: 0.9 \n",
      "\n",
      "Feature importances: \n",
      "\n",
      "current_club_id : 11.07\n",
      "country_of_citizenship : 4.71\n",
      "sub_position : 0.0\n",
      "position : 3.84\n",
      "foot : 3.76\n",
      "player_club_domestic_competition_id : 4.19\n",
      "city_of_birth : 2.08\n",
      "country_of_birth : 1.41\n",
      "height_in_cm : 0.81\n",
      "age : 2.1\n",
      "months_to_contract_end : 10.11\n",
      "yellow_cards : 10.08\n",
      "red_cards : 6.18\n",
      "one : 1.47\n",
      "goals : 4.99\n",
      "assists : 2.42\n",
      "minutes_played : 0.62\n",
      "num_games : 7.08\n",
      "percentage_of_substitutions : 3.09\n",
      "average_attendance : 7.49\n",
      "player_win_percentage : 5.43\n",
      "player_national_team_coplayers : 2.62\n",
      "player_squad_size : 4.46\n"
     ]
    }
   ],
   "source": [
    "df = df.dropna()\n",
    "\n",
    "max_dates = df.groupby('player_id')['val_date'].transform(max)\n",
    "val_df = df[df['val_date'] == max_dates]\n",
    "indices_to_drop = val_df.index\n",
    "train_df = df.drop(indices_to_drop)\n",
    "\n",
    "X_train = train_df.drop(columns=['market_value_in_eur', 'player_id', 'val_date'], axis=1)\n",
    "X_val = val_df.drop(columns=['market_value_in_eur', 'player_id', 'val_date'], axis=1)\n",
    "y_train = train_df['market_value_in_eur']\n",
    "y_val = val_df['market_value_in_eur']\n",
    "\n",
    "\n",
    "model = CatBoostRegressor(\n",
    "    iterations=2000,\n",
    "    learning_rate=0.2,\n",
    "    depth=9,\n",
    "    l2_leaf_reg=3,\n",
    "    border_count=128,\n",
    "    random_seed=12,\n",
    "    cat_features=categorical, \n",
    "    eval_metric = 'MAE'\n",
    ") \n",
    "\n",
    "model.fit(\n",
    "    X_train, y_train,\n",
    "    cat_features=categorical,\n",
    "    eval_set=(X_val, y_val),\n",
    "    logging_level='Silent',\n",
    "    plot=True\n",
    ")\n",
    "\n",
    "print(f'R2 accuracy score: {round(model.score(X_val, y_val), 2)} \\n')\n",
    "\n",
    "print('Feature importances: \\n')\n",
    "feature_importances = model.get_feature_importance(Pool(X_train, label=y_train, cat_features=categorical))\n",
    "for i in range(len(feature_importances)):\n",
    "    print(f'{all_features[i]} : {round(feature_importances[i], 2)}')"
   ]
  },
  {
   "cell_type": "code",
   "execution_count": 189,
   "id": "0c89b224",
   "metadata": {
    "scrolled": false
   },
   "outputs": [
    {
     "data": {
      "image/png": "[encoded data removed]",
      "text/plain": [
       "<Figure size 1000x400 with 2 Axes>"
      ]
     },
     "metadata": {},
     "output_type": "display_data"
    }
   ],
   "source": [
    "predictions = model.predict(X_val)\n",
    "\n",
    "fig, axs = plt.subplots(1, 2, figsize=(10, 4))\n",
    "\n",
    "axs[0].hist(val_df['market_value_in_eur'], bins=75, edgecolor='black')\n",
    "axs[0].set_title('Distribution of Target')\n",
    "axs[0].set_xlabel('Market Value in EUR')\n",
    "axs[0].set_ylabel('Number of Instances')\n",
    "\n",
    "axs[1].hist(predictions, bins=75, edgecolor='black')\n",
    "axs[1].set_title('Distribution of Model Predictions')\n",
    "axs[1].set_xlabel('Predicted Value')\n",
    "axs[1].set_ylabel('Number of Instances')\n",
    "\n",
    "plt.tight_layout() \n",
    "plt.show()"
   ]
  },
  {
   "cell_type": "markdown",
   "id": "4009be92",
   "metadata": {},
   "source": [
    "Learning label"
   ]
  },
  {
   "cell_type": "code",
   "execution_count": 190,
   "id": "1c75c7cd",
   "metadata": {},
   "outputs": [],
   "source": [
    "df['log_target'] = np.log(df['market_value_in_eur'])\n",
    "def determine_label(log_value):\n",
    "    return int(log_value - 9) - 1\n",
    "\n",
    "df['label'] = df['log_target'].apply(determine_label)"
   ]
  },
  {
   "cell_type": "code",
   "execution_count": 191,
   "id": "8c1a3f59",
   "metadata": {},
   "outputs": [
    {
     "data": {
      "application/vnd.jupyter.widget-view+json": {
       "model_id": "fb26ec78edf74479acb87c800a406181",
       "version_major": 2,
       "version_minor": 0
      },
      "text/plain": [
       "MetricVisualizer(layout=Layout(align_self='stretch', height='500px'))"
      ]
     },
     "metadata": {},
     "output_type": "display_data"
    },
    {
     "name": "stdout",
     "output_type": "stream",
     "text": [
      "R2 accuracy score: 0.64 \n",
      "\n",
      "Feature importances: \n",
      "\n",
      "current_club_id : 14.01\n",
      "country_of_citizenship : 4.0\n",
      "sub_position : 0.0\n",
      "position : 4.57\n",
      "foot : 8.45\n",
      "player_club_domestic_competition_id : 5.22\n",
      "city_of_birth : 4.88\n",
      "country_of_birth : 3.11\n",
      "height_in_cm : 1.39\n",
      "age : 2.3\n",
      "months_to_contract_end : 7.7\n",
      "yellow_cards : 7.35\n",
      "red_cards : 6.61\n",
      "one : 2.23\n",
      "goals : 2.97\n",
      "assists : 2.18\n",
      "minutes_played : 0.46\n",
      "num_games : 3.16\n",
      "percentage_of_substitutions : 1.61\n",
      "average_attendance : 7.51\n",
      "player_win_percentage : 3.07\n",
      "player_national_team_coplayers : 3.61\n",
      "player_squad_size : 3.6\n"
     ]
    }
   ],
   "source": [
    "df = df.dropna()\n",
    "\n",
    "max_dates = df.groupby('player_id')['val_date'].transform(max)\n",
    "val_df = df[df['val_date'] == max_dates]\n",
    "indices_to_drop = val_df.index\n",
    "train_df = df.drop(indices_to_drop)\n",
    "\n",
    "X_train = train_df.drop(columns=['market_value_in_eur', 'player_id', 'val_date', 'log_target', 'label'], axis=1)\n",
    "X_val = val_df.drop(columns=['market_value_in_eur', 'player_id', 'val_date', 'log_target', 'label'], axis=1)\n",
    "y_train = train_df['label']\n",
    "y_val = val_df['label']\n",
    "\n",
    "\n",
    "model = CatBoostClassifier(\n",
    "    iterations=200,\n",
    "    learning_rate=0.8,\n",
    "    depth=10,\n",
    "    l2_leaf_reg=3,\n",
    "    border_count=256,\n",
    "    random_seed=12,\n",
    "    cat_features=categorical, \n",
    "    eval_metric = 'Accuracy'\n",
    ") \n",
    "\n",
    "model.fit(\n",
    "    X_train, y_train,\n",
    "    cat_features=categorical,\n",
    "    eval_set=(X_val, y_val),\n",
    "    logging_level='Silent',\n",
    "    plot=True\n",
    ")\n",
    "\n",
    "print(f'R2 accuracy score: {round(model.score(X_val, y_val), 2)} \\n')\n",
    "\n",
    "print('Feature importances: \\n')\n",
    "feature_importances = model.get_feature_importance(Pool(X_train, label=y_train, cat_features=categorical))\n",
    "for i in range(len(feature_importances)):\n",
    "    print(f'{all_features[i]} : {round(feature_importances[i], 2)}')"
   ]
  },
  {
   "cell_type": "code",
   "execution_count": 192,
   "id": "3f29af86",
   "metadata": {},
   "outputs": [
    {
     "data": {
      "image/png": "[encoded data removed]",
      "text/plain": [
       "<Figure size 1000x400 with 2 Axes>"
      ]
     },
     "metadata": {},
     "output_type": "display_data"
    }
   ],
   "source": [
    "predictions = model.predict(X_val)\n",
    "\n",
    "fig, axs = plt.subplots(1, 2, figsize=(10, 4))\n",
    "\n",
    "axs[0].hist(y_val, bins=75, edgecolor='black')\n",
    "axs[0].set_title('Distribution of Classes')\n",
    "axs[0].set_xlabel('Log(Market Value in EUR)')\n",
    "axs[0].set_ylabel('Number of Instances')\n",
    "\n",
    "axs[1].hist(predictions, bins=75, edgecolor='black')\n",
    "axs[1].set_title('Distribution of Model Predictions')\n",
    "axs[1].set_xlabel('Predicted Value')\n",
    "axs[1].set_ylabel('Number of Instances')\n",
    "\n",
    "plt.tight_layout() \n",
    "plt.show()"
   ]
  },
  {
   "cell_type": "code",
   "execution_count": null,
   "id": "215991d6",
   "metadata": {},
   "outputs": [],
   "source": []
  }
 ],
 "metadata": {
  "kernelspec": {
   "display_name": "Python 3 (ipykernel)",
   "language": "python",
   "name": "python3"
  },
  "language_info": {
   "codemirror_mode": {
    "name": "ipython",
    "version": 3
   },
   "file_extension": ".py",
   "mimetype": "text/x-python",
   "name": "python",
   "nbconvert_exporter": "python",
   "pygments_lexer": "ipython3",
   "version": "3.11.5"
  }
 },
 "nbformat": 4,
 "nbformat_minor": 5
}
